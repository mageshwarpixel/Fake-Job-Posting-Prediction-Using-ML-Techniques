{
 "cells": [
  {
   "cell_type": "code",
   "execution_count": 2,
   "id": "45141a66-3a9a-4be1-92a0-75978e8ab6a9",
   "metadata": {},
   "outputs": [
    {
     "name": "stdout",
     "output_type": "stream",
     "text": [
      "Collecting tensorflow\n",
      "  Downloading tensorflow-2.20.0-cp310-cp310-win_amd64.whl (331.7 MB)\n",
      "Collecting termcolor>=1.1.0\n",
      "  Downloading termcolor-3.1.0-py3-none-any.whl (7.7 kB)\n",
      "Requirement already satisfied: six>=1.12.0 in c:\\users\\mages\\lib\\site-packages (from tensorflow) (1.17.0)\n",
      "Collecting h5py>=3.11.0\n",
      "  Downloading h5py-3.14.0-cp310-cp310-win_amd64.whl (2.9 MB)\n",
      "Collecting libclang>=13.0.0\n",
      "  Downloading libclang-18.1.1-py2.py3-none-win_amd64.whl (26.4 MB)\n",
      "Collecting flatbuffers>=24.3.25\n",
      "  Downloading flatbuffers-25.2.10-py2.py3-none-any.whl (30 kB)\n",
      "Collecting keras>=3.10.0\n",
      "  Downloading keras-3.11.3-py3-none-any.whl (1.4 MB)\n",
      "Requirement already satisfied: requests<3,>=2.21.0 in c:\\users\\mages\\lib\\site-packages (from tensorflow) (2.32.5)\n",
      "Requirement already satisfied: numpy>=1.26.0 in c:\\users\\mages\\lib\\site-packages (from tensorflow) (2.2.6)\n",
      "Requirement already satisfied: packaging in c:\\users\\mages\\lib\\site-packages (from tensorflow) (25.0)\n",
      "Requirement already satisfied: typing_extensions>=3.6.6 in c:\\users\\mages\\lib\\site-packages (from tensorflow) (4.14.1)\n",
      "Requirement already satisfied: setuptools in c:\\users\\mages\\lib\\site-packages (from tensorflow) (58.1.0)\n",
      "Collecting opt_einsum>=2.3.2\n",
      "  Downloading opt_einsum-3.4.0-py3-none-any.whl (71 kB)\n",
      "Collecting protobuf>=5.28.0\n",
      "  Downloading protobuf-6.32.1-cp310-abi3-win_amd64.whl (435 kB)\n",
      "Collecting astunparse>=1.6.0\n",
      "  Downloading astunparse-1.6.3-py2.py3-none-any.whl (12 kB)\n",
      "Collecting google_pasta>=0.1.1\n",
      "  Downloading google_pasta-0.2.0-py3-none-any.whl (57 kB)\n",
      "Collecting wrapt>=1.11.0\n",
      "  Downloading wrapt-1.17.3-cp310-cp310-win_amd64.whl (38 kB)\n",
      "Collecting gast!=0.5.0,!=0.5.1,!=0.5.2,>=0.2.1\n",
      "  Downloading gast-0.6.0-py3-none-any.whl (21 kB)\n",
      "Collecting grpcio<2.0,>=1.24.3\n",
      "  Downloading grpcio-1.74.0-cp310-cp310-win_amd64.whl (4.5 MB)\n",
      "Collecting tensorboard~=2.20.0\n",
      "  Downloading tensorboard-2.20.0-py3-none-any.whl (5.5 MB)\n",
      "Collecting absl-py>=1.0.0\n",
      "  Downloading absl_py-2.3.1-py3-none-any.whl (135 kB)\n",
      "Collecting ml_dtypes<1.0.0,>=0.5.1\n",
      "  Downloading ml_dtypes-0.5.3-cp310-cp310-win_amd64.whl (206 kB)\n",
      "Collecting wheel<1.0,>=0.23.0\n",
      "  Downloading wheel-0.45.1-py3-none-any.whl (72 kB)\n",
      "Collecting optree\n",
      "  Downloading optree-0.17.0-cp310-cp310-win_amd64.whl (304 kB)\n",
      "Collecting namex\n",
      "  Downloading namex-0.1.0-py3-none-any.whl (5.9 kB)\n",
      "Collecting rich\n",
      "  Downloading rich-14.1.0-py3-none-any.whl (243 kB)\n",
      "Requirement already satisfied: certifi>=2017.4.17 in c:\\users\\mages\\lib\\site-packages (from requests<3,>=2.21.0->tensorflow) (2025.8.3)\n",
      "Requirement already satisfied: charset_normalizer<4,>=2 in c:\\users\\mages\\lib\\site-packages (from requests<3,>=2.21.0->tensorflow) (3.4.3)\n",
      "Requirement already satisfied: urllib3<3,>=1.21.1 in c:\\users\\mages\\lib\\site-packages (from requests<3,>=2.21.0->tensorflow) (2.5.0)\n",
      "Requirement already satisfied: idna<4,>=2.5 in c:\\users\\mages\\lib\\site-packages (from requests<3,>=2.21.0->tensorflow) (3.10)\n",
      "Collecting werkzeug>=1.0.1\n",
      "  Downloading werkzeug-3.1.3-py3-none-any.whl (224 kB)\n",
      "Collecting tensorboard-data-server<0.8.0,>=0.7.0\n",
      "  Downloading tensorboard_data_server-0.7.2-py3-none-any.whl (2.4 kB)\n",
      "Collecting markdown>=2.6.8\n",
      "  Downloading markdown-3.9-py3-none-any.whl (107 kB)\n",
      "Requirement already satisfied: pillow in c:\\users\\mages\\lib\\site-packages (from tensorboard~=2.20.0->tensorflow) (11.3.0)\n",
      "Requirement already satisfied: MarkupSafe>=2.1.1 in c:\\users\\mages\\lib\\site-packages (from werkzeug>=1.0.1->tensorboard~=2.20.0->tensorflow) (3.0.2)\n",
      "Collecting markdown-it-py>=2.2.0\n",
      "  Downloading markdown_it_py-4.0.0-py3-none-any.whl (87 kB)\n",
      "Requirement already satisfied: pygments<3.0.0,>=2.13.0 in c:\\users\\mages\\lib\\site-packages (from rich->keras>=3.10.0->tensorflow) (2.19.2)\n",
      "Collecting mdurl~=0.1\n",
      "  Downloading mdurl-0.1.2-py3-none-any.whl (10.0 kB)\n",
      "Installing collected packages: mdurl, markdown-it-py, wheel, werkzeug, tensorboard-data-server, rich, protobuf, optree, namex, ml-dtypes, markdown, h5py, grpcio, absl-py, wrapt, termcolor, tensorboard, opt-einsum, libclang, keras, google-pasta, gast, flatbuffers, astunparse, tensorflow\n",
      "Successfully installed absl-py-2.3.1 astunparse-1.6.3 flatbuffers-25.2.10 gast-0.6.0 google-pasta-0.2.0 grpcio-1.74.0 h5py-3.14.0 keras-3.11.3 libclang-18.1.1 markdown-3.9 markdown-it-py-4.0.0 mdurl-0.1.2 ml-dtypes-0.5.3 namex-0.1.0 opt-einsum-3.4.0 optree-0.17.0 protobuf-6.32.1 rich-14.1.0 tensorboard-2.20.0 tensorboard-data-server-0.7.2 tensorflow-2.20.0 termcolor-3.1.0 werkzeug-3.1.3 wheel-0.45.1 wrapt-1.17.3\n"
     ]
    },
    {
     "name": "stderr",
     "output_type": "stream",
     "text": [
      "WARNING: You are using pip version 21.2.4; however, version 25.2 is available.\n",
      "You should consider upgrading via the 'C:\\Users\\Mages\\python.exe -m pip install --upgrade pip' command.\n"
     ]
    }
   ],
   "source": [
    "!pip install tensorflow"
   ]
  },
  {
   "cell_type": "code",
   "execution_count": 3,
   "id": "f4d832fa-26f2-4420-a0e7-5f25dedfe5ff",
   "metadata": {},
   "outputs": [],
   "source": [
    "from tensorflow.keras.models import Sequential,load_model "
   ]
  },
  {
   "cell_type": "code",
   "execution_count": 4,
   "id": "12611ce6-4bb4-4eab-bffe-d68ffc5b4a58",
   "metadata": {},
   "outputs": [],
   "source": [
    "from tensorflow.keras.layers import LSTM, Dense "
   ]
  },
  {
   "cell_type": "code",
   "execution_count": 5,
   "id": "1d1523f4-33f5-475c-bd21-4251b6678110",
   "metadata": {},
   "outputs": [],
   "source": [
    "from tensorflow.keras.layers import Dropout, Activation, Flatten"
   ]
  },
  {
   "cell_type": "code",
   "execution_count": 6,
   "id": "3f63c044-6c80-4e0b-999b-da23d745d483",
   "metadata": {},
   "outputs": [],
   "source": [
    "import warnings "
   ]
  },
  {
   "cell_type": "code",
   "execution_count": 7,
   "id": "c8512797-3cb0-4947-bb78-aca1d817ee01",
   "metadata": {},
   "outputs": [],
   "source": [
    "warnings.filterwarnings(\"ignore\") "
   ]
  },
  {
   "cell_type": "code",
   "execution_count": 8,
   "id": "711d4320-d2c5-40f5-961c-8ff2912d8962",
   "metadata": {},
   "outputs": [],
   "source": [
    "import numpy as np"
   ]
  },
  {
   "cell_type": "code",
   "execution_count": 9,
   "id": "9c02946b-6653-4cd4-a127-39fd6bcd4e42",
   "metadata": {},
   "outputs": [],
   "source": [
    "import matplotlib.pyplot as plt "
   ]
  },
  {
   "cell_type": "code",
   "execution_count": 10,
   "id": "2d171305-a54e-4171-b305-f39e8fff288a",
   "metadata": {},
   "outputs": [],
   "source": [
    "import pandas as pd"
   ]
  },
  {
   "cell_type": "code",
   "execution_count": 11,
   "id": "557de434-ba2c-4f65-8496-52af30ffb882",
   "metadata": {},
   "outputs": [],
   "source": [
    "from sklearn.preprocessing import MinMaxScaler "
   ]
  },
  {
   "cell_type": "code",
   "execution_count": 12,
   "id": "60c5764d-a9a5-43fa-a147-de51f65c8a7f",
   "metadata": {},
   "outputs": [],
   "source": [
    "data = pd.read_csv('fake_job_postings.csv', date_parser = True)"
   ]
  },
  {
   "cell_type": "code",
   "execution_count": 13,
   "id": "047576ac-acce-4850-a91e-c3e38fa8e8e6",
   "metadata": {},
   "outputs": [],
   "source": [
    "data=data.dropna() "
   ]
  },
  {
   "cell_type": "code",
   "execution_count": 14,
   "id": "c22e9bc0-1a73-42b6-bebc-ab1ddab5ef5d",
   "metadata": {},
   "outputs": [
    {
     "data": {
      "text/plain": [
       "Index(['job_id', 'title', 'location', 'department', 'salary_range',\n",
       "       'company_profile', 'description', 'requirements', 'benefits',\n",
       "       'telecommuting', 'has_company_logo', 'has_questions', 'employment_type',\n",
       "       'required_experience', 'required_education', 'industry', 'function',\n",
       "       'fraudulent'],\n",
       "      dtype='object')"
      ]
     },
     "execution_count": 14,
     "metadata": {},
     "output_type": "execute_result"
    }
   ],
   "source": [
    "data.columns"
   ]
  },
  {
   "cell_type": "code",
   "execution_count": 15,
   "id": "fc021ebe-4ecb-463b-8ffd-893d031b4eb7",
   "metadata": {},
   "outputs": [],
   "source": [
    "from sklearn.preprocessing import LabelEncoder"
   ]
  },
  {
   "cell_type": "code",
   "execution_count": 16,
   "id": "e885a14d-08f7-4d52-8333-5d45f5e9d8d3",
   "metadata": {},
   "outputs": [],
   "source": [
    "var_mod = ['job_id', 'title', 'location', 'department', 'salary_range', \n",
    "'company_profile', 'description', 'requirements', 'benefits', \n",
    "'telecommuting', 'has_company_logo', 'has_questions', 'employment_type', \n",
    "'required_experience', 'required_education', 'industry', 'function', \n",
    "'fraudulent'] "
   ]
  },
  {
   "cell_type": "code",
   "execution_count": 17,
   "id": "c032cb6d-8cec-4ade-b158-d53dffff4253",
   "metadata": {},
   "outputs": [],
   "source": [
    "le = LabelEncoder() "
   ]
  },
  {
   "cell_type": "code",
   "execution_count": 18,
   "id": "aff0555c-23d1-49b2-a79f-2a9d3ff8ac1e",
   "metadata": {},
   "outputs": [],
   "source": [
    "for i in var_mod: \n",
    "    data[i] = le.fit_transform(data[i]).astype(int) "
   ]
  },
  {
   "cell_type": "code",
   "execution_count": 20,
   "id": "ca0d8343-7a17-47a0-a32f-9eb06dfcf8cb",
   "metadata": {},
   "outputs": [],
   "source": [
    "from sklearn.metrics import confusion_matrix, classification_report, matthews_corrcoef, cohen_kappa_score, accuracy_score, average_precision_score, roc_auc_score "
   ]
  },
  {
   "cell_type": "code",
   "execution_count": 21,
   "id": "e5285ab2-f236-4ba0-9119-c7ff8678cc41",
   "metadata": {},
   "outputs": [],
   "source": [
    "X = data.drop(labels='fraudulent', axis=1) "
   ]
  },
  {
   "cell_type": "code",
   "execution_count": 22,
   "id": "efdfc25a-3b7d-4c42-9396-41b9b935db78",
   "metadata": {},
   "outputs": [],
   "source": [
    "#Response variable  \n",
    "y = data.loc[:,'fraudulent']"
   ]
  },
  {
   "cell_type": "code",
   "execution_count": 23,
   "id": "8d56206c-744a-46a6-b7b3-d37835c640b3",
   "metadata": {},
   "outputs": [],
   "source": [
    "from sklearn.model_selection import train_test_split "
   ]
  },
  {
   "cell_type": "code",
   "execution_count": 24,
   "id": "d407da68-e868-4868-97c3-91eceaa1282f",
   "metadata": {},
   "outputs": [],
   "source": [
    "X_train, X_test, y_train, y_test = train_test_split(X, y, test_size=0.5, random_state=1, stratify=y) "
   ]
  },
  {
   "cell_type": "code",
   "execution_count": 25,
   "id": "fa2a2756-6348-4e3a-bbe3-cc10e3cfe3dc",
   "metadata": {},
   "outputs": [],
   "source": [
    "scaler = MinMaxScaler()"
   ]
  },
  {
   "cell_type": "code",
   "execution_count": 26,
   "id": "7c76145c-a890-4591-877f-0e32cad7cb1e",
   "metadata": {},
   "outputs": [],
   "source": [
    "data_training = scaler.fit_transform(X_train)"
   ]
  },
  {
   "cell_type": "code",
   "execution_count": 27,
   "id": "0f7d53b5-71ed-47a2-9fc3-aab77eb5f28f",
   "metadata": {},
   "outputs": [
    {
     "data": {
      "text/plain": [
       "array([[0.36103896, 0.12418301, 0.98148148, ..., 0.33333333, 0.2238806 ,\n",
       "        0.2       ],\n",
       "       [0.74805195, 0.88888889, 0.09259259, ..., 0.33333333, 0.40298507,\n",
       "        0.2       ],\n",
       "       [0.75584416, 0.1372549 , 0.04166667, ..., 0.44444444, 0.56716418,\n",
       "        0.57142857],\n",
       "       ...,\n",
       "       [0.77402597, 0.5620915 , 0.19907407, ..., 0.11111111, 0.56716418,\n",
       "        0.62857143],\n",
       "       [0.79480519, 0.5130719 , 0.60648148, ..., 0.77777778, 0.92537313,\n",
       "        0.51428571],\n",
       "       [0.82857143, 0.20751634, 0.79166667, ..., 0.11111111, 0.67164179,\n",
       "        0.74285714]], shape=(387, 17))"
      ]
     },
     "execution_count": 27,
     "metadata": {},
     "output_type": "execute_result"
    }
   ],
   "source": [
    "data_training"
   ]
  },
  {
   "cell_type": "code",
   "execution_count": 28,
   "id": "415aa96c-164c-44f8-b4c2-d02d7790edbd",
   "metadata": {},
   "outputs": [],
   "source": [
    "scaler = MinMaxScaler() "
   ]
  },
  {
   "cell_type": "code",
   "execution_count": 29,
   "id": "ba7e8c6e-989c-4ddf-920f-2a74a446c8e3",
   "metadata": {},
   "outputs": [],
   "source": [
    "data_testing = scaler.fit_transform(X_test)"
   ]
  },
  {
   "cell_type": "code",
   "execution_count": 30,
   "id": "9d598627-b98d-4d25-b0b3-d17519e7c0a3",
   "metadata": {},
   "outputs": [
    {
     "data": {
      "text/plain": [
       "array([[0.86658031, 0.54071661, 0.14553991, ..., 0.125     , 0.18181818,\n",
       "        0.82857143],\n",
       "       [0.33290155, 0.73289902, 0.15962441, ..., 0.125     , 0.87878788,\n",
       "        0.51428571],\n",
       "       [0.94430052, 0.95114007, 0.29577465, ..., 0.25      , 0.53030303,\n",
       "        0.25714286],\n",
       "       ...,\n",
       "       [0.85362694, 0.29478827, 0.82159624, ..., 0.375     , 0.21212121,\n",
       "        0.88571429],\n",
       "       [0.69948187, 0.74429967, 0.18779343, ..., 0.875     , 0.53030303,\n",
       "        0.88571429],\n",
       "       [0.74093264, 0.69381107, 1.        , ..., 0.        , 0.6969697 ,\n",
       "        0.8       ]], shape=(387, 17))"
      ]
     },
     "execution_count": 30,
     "metadata": {},
     "output_type": "execute_result"
    }
   ],
   "source": [
    "data_testing"
   ]
  },
  {
   "cell_type": "code",
   "execution_count": 31,
   "id": "745ff144-1f24-4d36-8f64-9c0732bd80dd",
   "metadata": {},
   "outputs": [
    {
     "data": {
      "text/plain": [
       "array([[0.36103896, 0.12418301, 0.98148148, 0.19502075, 0.49498328,\n",
       "        0.1025641 , 0.67826087, 0.51100629, 0.43076923, 0.        ,\n",
       "        1.        , 1.        , 0.25      , 0.        , 0.33333333,\n",
       "        0.2238806 , 0.2       ],\n",
       "       [0.74805195, 0.88888889, 0.09259259, 0.05394191, 0.14715719,\n",
       "        0.71794872, 0.5826087 , 0.90566038, 0.35192308, 0.        ,\n",
       "        1.        , 1.        , 0.25      , 1.        , 0.33333333,\n",
       "        0.40298507, 0.2       ],\n",
       "       [0.75584416, 0.1372549 , 0.04166667, 0.55186722, 0.46153846,\n",
       "        0.95384615, 0.96086957, 0.58805031, 0.39807692, 0.        ,\n",
       "        1.        , 0.        , 0.25      , 0.5       , 0.44444444,\n",
       "        0.56716418, 0.57142857],\n",
       "       [0.4025974 , 0.32189542, 0.91203704, 0.6473029 , 0.1270903 ,\n",
       "        0.52307692, 0.5       , 0.20283019, 0.68846154, 0.        ,\n",
       "        1.        , 1.        , 0.25      , 0.83333333, 0.33333333,\n",
       "        0.73134328, 0.34285714],\n",
       "       [0.1974026 , 0.21405229, 0.4212963 , 0.26141079, 0.2909699 ,\n",
       "        0.40512821, 0.13333333, 0.9072327 , 0.90384615, 0.        ,\n",
       "        1.        , 0.        , 0.25      , 0.33333333, 0.33333333,\n",
       "        0.17910448, 0.2       ],\n",
       "       [0.04545455, 0.17973856, 0.64351852, 0.7966805 , 0.86622074,\n",
       "        0.06153846, 0.07536232, 0.25943396, 0.89423077, 0.        ,\n",
       "        1.        , 1.        , 0.25      , 0.83333333, 0.33333333,\n",
       "        0.19402985, 0.88571429],\n",
       "       [0.72077922, 0.77614379, 0.35185185, 0.43983402, 0.81939799,\n",
       "        0.        , 0.00869565, 0.48742138, 0.66538462, 0.        ,\n",
       "        1.        , 1.        , 0.25      , 0.83333333, 0.55555556,\n",
       "        0.67164179, 0.88571429],\n",
       "       [0.0961039 , 0.77124183, 0.71759259, 0.7966805 , 0.42140468,\n",
       "        0.53846154, 0.75942029, 0.18396226, 0.49615385, 0.        ,\n",
       "        1.        , 1.        , 0.25      , 0.        , 0.33333333,\n",
       "        0.02985075, 0.88571429],\n",
       "       [0.52987013, 0.23202614, 0.14814815, 0.26970954, 0.37123746,\n",
       "        0.64102564, 0.3115942 , 0.88993711, 0.93076923, 1.        ,\n",
       "        1.        , 1.        , 0.25      , 0.5       , 0.77777778,\n",
       "        0.56716418, 0.2       ],\n",
       "       [0.98311688, 0.49019608, 0.20833333, 0.53112033, 0.65551839,\n",
       "        0.78974359, 0.77826087, 0.22955975, 0.94038462, 0.        ,\n",
       "        1.        , 1.        , 0.25      , 0.66666667, 0.11111111,\n",
       "        0.05970149, 0.37142857]])"
      ]
     },
     "execution_count": 31,
     "metadata": {},
     "output_type": "execute_result"
    }
   ],
   "source": [
    "data_training[0:10]"
   ]
  },
  {
   "cell_type": "code",
   "execution_count": 32,
   "id": "f8ce7358-da70-4b0b-b26a-916fcdd5a13a",
   "metadata": {},
   "outputs": [],
   "source": [
    "X_train1 = [] "
   ]
  },
  {
   "cell_type": "code",
   "execution_count": 33,
   "id": "ffad4c0f-5a86-44a2-840b-2be49cd4682a",
   "metadata": {},
   "outputs": [],
   "source": [
    "y_train1 = [] "
   ]
  },
  {
   "cell_type": "code",
   "execution_count": 34,
   "id": "65c35e9a-f0ac-4263-b4ee-c4f8a2688515",
   "metadata": {},
   "outputs": [],
   "source": [
    "for i in range(60, data_training.shape[0]): \n",
    "    X_train1.append(data_training[i-60:i]) \n",
    "    y_train1.append(data_training[i, 0])"
   ]
  },
  {
   "cell_type": "code",
   "execution_count": 35,
   "id": "16ef61ef-86c4-42f6-ae5e-bcc0753f5784",
   "metadata": {},
   "outputs": [],
   "source": [
    "X_train, y_train = np.array(X_train1), np.array(y_train1)"
   ]
  },
  {
   "cell_type": "code",
   "execution_count": 36,
   "id": "85d9bf8d-d952-43d7-ac5b-688a7fc947cc",
   "metadata": {},
   "outputs": [
    {
     "data": {
      "text/plain": [
       "(327, 60, 17)"
      ]
     },
     "execution_count": 36,
     "metadata": {},
     "output_type": "execute_result"
    }
   ],
   "source": [
    "X_train.shape"
   ]
  },
  {
   "cell_type": "code",
   "execution_count": 37,
   "id": "cb5006e6-9848-4888-829d-58693c03f913",
   "metadata": {},
   "outputs": [],
   "source": [
    "X_test1 = []"
   ]
  },
  {
   "cell_type": "code",
   "execution_count": 38,
   "id": "7f65c720-fe0f-4138-b20c-ef8df7739dc6",
   "metadata": {},
   "outputs": [],
   "source": [
    "y_test1 = []"
   ]
  },
  {
   "cell_type": "code",
   "execution_count": 39,
   "id": "4ee63788-9e04-4ccf-ac74-36a607014edd",
   "metadata": {},
   "outputs": [],
   "source": [
    "for i in range(60, data_training.shape[0]): \n",
    "    X_train1.append(data_training[i-60:i]) \n",
    "    y_train1.append(data_training[i, 0]) "
   ]
  },
  {
   "cell_type": "code",
   "execution_count": 40,
   "id": "bc7bfd0a-a373-4f7c-b105-b8a54e989dcd",
   "metadata": {},
   "outputs": [],
   "source": [
    "X_train, y_train = np.array(X_train1), np.array(y_train1)"
   ]
  },
  {
   "cell_type": "code",
   "execution_count": 41,
   "id": "ecd17426-709a-44a7-8833-59ff38524f82",
   "metadata": {},
   "outputs": [
    {
     "data": {
      "text/plain": [
       "(654, 60, 17)"
      ]
     },
     "execution_count": 41,
     "metadata": {},
     "output_type": "execute_result"
    }
   ],
   "source": [
    "X_train.shape"
   ]
  },
  {
   "cell_type": "code",
   "execution_count": 42,
   "id": "70aeb40d-5008-4b48-8e10-9e5b1d61f1f9",
   "metadata": {},
   "outputs": [],
   "source": [
    "X_test1 = [] "
   ]
  },
  {
   "cell_type": "code",
   "execution_count": 43,
   "id": "39358fd9-aed0-4591-a995-22c30553f7e8",
   "metadata": {},
   "outputs": [],
   "source": [
    "y_test1 = []"
   ]
  },
  {
   "cell_type": "code",
   "execution_count": 44,
   "id": "15d4d865-3609-4a86-ae48-bf79c57d7ff1",
   "metadata": {},
   "outputs": [],
   "source": [
    "for i in range(60, data_testing.shape[0]): \n",
    "    X_test1.append(data_testing[i-60:i]) \n",
    "    y_test1.append(data_testing[i, 0]) "
   ]
  },
  {
   "cell_type": "code",
   "execution_count": 45,
   "id": "11448e9f-28d6-4388-bda7-2d88cf522ad2",
   "metadata": {},
   "outputs": [],
   "source": [
    "X_test, y_test = np.array(X_test1), np.array(y_test1)"
   ]
  },
  {
   "cell_type": "code",
   "execution_count": 46,
   "id": "cc763c36-b005-4aef-b1d3-616945459427",
   "metadata": {},
   "outputs": [
    {
     "data": {
      "text/plain": [
       "(327, 60, 17)"
      ]
     },
     "execution_count": 46,
     "metadata": {},
     "output_type": "execute_result"
    }
   ],
   "source": [
    "X_test.shape"
   ]
  },
  {
   "cell_type": "code",
   "execution_count": 47,
   "id": "af0c5e5c-8764-4725-9636-e8be873e76e5",
   "metadata": {},
   "outputs": [],
   "source": [
    "# Initialising the RNN \n",
    "model = Sequential()"
   ]
  },
  {
   "cell_type": "code",
   "execution_count": 48,
   "id": "cbfcc893-b290-412a-94cf-d96955ad3a20",
   "metadata": {},
   "outputs": [],
   "source": [
    "# Adding the first LSTM layer and some Dropout regularisation \n",
    "model.add(LSTM(24, return_sequences=True,input_shape=(X_train.shape[1], X_train.shape[2])))  # returns a sequence of vectors of dimension 64"
   ]
  },
  {
   "cell_type": "code",
   "execution_count": 49,
   "id": "4f65649a-3bd9-41f5-b45b-16c22258559c",
   "metadata": {},
   "outputs": [],
   "source": [
    "model.add(Dropout(0.2)) "
   ]
  },
  {
   "cell_type": "code",
   "execution_count": 50,
   "id": "6965c724-023f-46b6-b9d2-2d2ef83df003",
   "metadata": {},
   "outputs": [],
   "source": [
    "# Adding a second LSTM layer and some Dropout regularisation \n",
    "model.add(LSTM(units = 50)) "
   ]
  },
  {
   "cell_type": "code",
   "execution_count": 53,
   "id": "af1c8f26-fdc4-4cd1-a100-2f520db27956",
   "metadata": {},
   "outputs": [],
   "source": [
    "#model.add(Dropout(0.2)) \n",
    "model.add(Dense(10,activation='relu'))"
   ]
  },
  {
   "cell_type": "code",
   "execution_count": 54,
   "id": "cd17a69e-7b0d-4d5e-ab4c-c355504e58ce",
   "metadata": {},
   "outputs": [],
   "source": [
    "# Adding the output layer \n",
    "#model.add(Dense(1, activation=\"linear\"))\n",
    "model.add(Dense(1)) \n",
    "#model.add(Dense(units = 1)) "
   ]
  },
  {
   "cell_type": "code",
   "execution_count": 55,
   "id": "4bd7b639-16a4-442e-a109-3fad6b363de2",
   "metadata": {},
   "outputs": [
    {
     "name": "stdout",
     "output_type": "stream",
     "text": [
      "Epoch 1/40\n",
      "\u001b[1m327/327\u001b[0m \u001b[32m━━━━━━━━━━━━━━━━━━━━\u001b[0m\u001b[37m\u001b[0m \u001b[1m12s\u001b[0m 25ms/step - accuracy: 0.0031 - loss: 0.0989\n",
      "Epoch 2/40\n",
      "\u001b[1m327/327\u001b[0m \u001b[32m━━━━━━━━━━━━━━━━━━━━\u001b[0m\u001b[37m\u001b[0m \u001b[1m8s\u001b[0m 25ms/step - accuracy: 0.0046 - loss: 0.0930\n",
      "Epoch 3/40\n",
      "\u001b[1m327/327\u001b[0m \u001b[32m━━━━━━━━━━━━━━━━━━━━\u001b[0m\u001b[37m\u001b[0m \u001b[1m10s\u001b[0m 25ms/step - accuracy: 0.0046 - loss: 0.0902\n",
      "Epoch 4/40\n",
      "\u001b[1m327/327\u001b[0m \u001b[32m━━━━━━━━━━━━━━━━━━━━\u001b[0m\u001b[37m\u001b[0m \u001b[1m10s\u001b[0m 25ms/step - accuracy: 0.0061 - loss: 0.0881\n",
      "Epoch 5/40\n",
      "\u001b[1m327/327\u001b[0m \u001b[32m━━━━━━━━━━━━━━━━━━━━\u001b[0m\u001b[37m\u001b[0m \u001b[1m8s\u001b[0m 25ms/step - accuracy: 0.0046 - loss: 0.0851    \n",
      "Epoch 6/40\n",
      "\u001b[1m327/327\u001b[0m \u001b[32m━━━━━━━━━━━━━━━━━━━━\u001b[0m\u001b[37m\u001b[0m \u001b[1m8s\u001b[0m 25ms/step - accuracy: 0.0061 - loss: 0.0833\n",
      "Epoch 7/40\n",
      "\u001b[1m327/327\u001b[0m \u001b[32m━━━━━━━━━━━━━━━━━━━━\u001b[0m\u001b[37m\u001b[0m \u001b[1m8s\u001b[0m 25ms/step - accuracy: 0.0061 - loss: 0.0814\n",
      "Epoch 8/40\n",
      "\u001b[1m327/327\u001b[0m \u001b[32m━━━━━━━━━━━━━━━━━━━━\u001b[0m\u001b[37m\u001b[0m \u001b[1m8s\u001b[0m 26ms/step - accuracy: 0.0061 - loss: 0.0784\n",
      "Epoch 9/40\n",
      "\u001b[1m327/327\u001b[0m \u001b[32m━━━━━━━━━━━━━━━━━━━━\u001b[0m\u001b[37m\u001b[0m \u001b[1m8s\u001b[0m 26ms/step - accuracy: 0.0061 - loss: 0.0758\n",
      "Epoch 10/40\n",
      "\u001b[1m327/327\u001b[0m \u001b[32m━━━━━━━━━━━━━━━━━━━━\u001b[0m\u001b[37m\u001b[0m \u001b[1m8s\u001b[0m 25ms/step - accuracy: 0.0061 - loss: 0.0725\n",
      "Epoch 11/40\n",
      "\u001b[1m327/327\u001b[0m \u001b[32m━━━━━━━━━━━━━━━━━━━━\u001b[0m\u001b[37m\u001b[0m \u001b[1m8s\u001b[0m 26ms/step - accuracy: 0.0046 - loss: 0.0726\n",
      "Epoch 12/40\n",
      "\u001b[1m327/327\u001b[0m \u001b[32m━━━━━━━━━━━━━━━━━━━━\u001b[0m\u001b[37m\u001b[0m \u001b[1m9s\u001b[0m 26ms/step - accuracy: 0.0061 - loss: 0.0705\n",
      "Epoch 13/40\n",
      "\u001b[1m327/327\u001b[0m \u001b[32m━━━━━━━━━━━━━━━━━━━━\u001b[0m\u001b[37m\u001b[0m \u001b[1m9s\u001b[0m 26ms/step - accuracy: 0.0061 - loss: 0.0663\n",
      "Epoch 14/40\n",
      "\u001b[1m327/327\u001b[0m \u001b[32m━━━━━━━━━━━━━━━━━━━━\u001b[0m\u001b[37m\u001b[0m \u001b[1m8s\u001b[0m 25ms/step - accuracy: 0.0061 - loss: 0.0641\n",
      "Epoch 15/40\n",
      "\u001b[1m327/327\u001b[0m \u001b[32m━━━━━━━━━━━━━━━━━━━━\u001b[0m\u001b[37m\u001b[0m \u001b[1m8s\u001b[0m 25ms/step - accuracy: 0.0046 - loss: 0.0642\n",
      "Epoch 16/40\n",
      "\u001b[1m327/327\u001b[0m \u001b[32m━━━━━━━━━━━━━━━━━━━━\u001b[0m\u001b[37m\u001b[0m \u001b[1m8s\u001b[0m 25ms/step - accuracy: 0.0061 - loss: 0.0625\n",
      "Epoch 17/40\n",
      "\u001b[1m327/327\u001b[0m \u001b[32m━━━━━━━━━━━━━━━━━━━━\u001b[0m\u001b[37m\u001b[0m \u001b[1m8s\u001b[0m 25ms/step - accuracy: 0.0061 - loss: 0.0610\n",
      "Epoch 18/40\n",
      "\u001b[1m327/327\u001b[0m \u001b[32m━━━━━━━━━━━━━━━━━━━━\u001b[0m\u001b[37m\u001b[0m \u001b[1m8s\u001b[0m 25ms/step - accuracy: 0.0061 - loss: 0.0580\n",
      "Epoch 19/40\n",
      "\u001b[1m327/327\u001b[0m \u001b[32m━━━━━━━━━━━━━━━━━━━━\u001b[0m\u001b[37m\u001b[0m \u001b[1m10s\u001b[0m 25ms/step - accuracy: 0.0061 - loss: 0.0564\n",
      "Epoch 20/40\n",
      "\u001b[1m327/327\u001b[0m \u001b[32m━━━━━━━━━━━━━━━━━━━━\u001b[0m\u001b[37m\u001b[0m \u001b[1m8s\u001b[0m 25ms/step - accuracy: 0.0061 - loss: 0.0556\n",
      "Epoch 21/40\n",
      "\u001b[1m327/327\u001b[0m \u001b[32m━━━━━━━━━━━━━━━━━━━━\u001b[0m\u001b[37m\u001b[0m \u001b[1m8s\u001b[0m 25ms/step - accuracy: 0.0046 - loss: 0.0527\n",
      "Epoch 22/40\n",
      "\u001b[1m327/327\u001b[0m \u001b[32m━━━━━━━━━━━━━━━━━━━━\u001b[0m\u001b[37m\u001b[0m \u001b[1m8s\u001b[0m 25ms/step - accuracy: 0.0061 - loss: 0.0524\n",
      "Epoch 23/40\n",
      "\u001b[1m327/327\u001b[0m \u001b[32m━━━━━━━━━━━━━━━━━━━━\u001b[0m\u001b[37m\u001b[0m \u001b[1m9s\u001b[0m 26ms/step - accuracy: 0.0061 - loss: 0.0486\n",
      "Epoch 24/40\n",
      "\u001b[1m327/327\u001b[0m \u001b[32m━━━━━━━━━━━━━━━━━━━━\u001b[0m\u001b[37m\u001b[0m \u001b[1m8s\u001b[0m 26ms/step - accuracy: 0.0061 - loss: 0.0485\n",
      "Epoch 25/40\n",
      "\u001b[1m327/327\u001b[0m \u001b[32m━━━━━━━━━━━━━━━━━━━━\u001b[0m\u001b[37m\u001b[0m \u001b[1m8s\u001b[0m 26ms/step - accuracy: 0.0061 - loss: 0.0478\n",
      "Epoch 26/40\n",
      "\u001b[1m327/327\u001b[0m \u001b[32m━━━━━━━━━━━━━━━━━━━━\u001b[0m\u001b[37m\u001b[0m \u001b[1m8s\u001b[0m 26ms/step - accuracy: 0.0061 - loss: 0.0444\n",
      "Epoch 27/40\n",
      "\u001b[1m327/327\u001b[0m \u001b[32m━━━━━━━━━━━━━━━━━━━━\u001b[0m\u001b[37m\u001b[0m \u001b[1m10s\u001b[0m 26ms/step - accuracy: 0.0061 - loss: 0.0425\n",
      "Epoch 28/40\n",
      "\u001b[1m327/327\u001b[0m \u001b[32m━━━━━━━━━━━━━━━━━━━━\u001b[0m\u001b[37m\u001b[0m \u001b[1m8s\u001b[0m 26ms/step - accuracy: 0.0061 - loss: 0.0416\n",
      "Epoch 29/40\n",
      "\u001b[1m327/327\u001b[0m \u001b[32m━━━━━━━━━━━━━━━━━━━━\u001b[0m\u001b[37m\u001b[0m \u001b[1m9s\u001b[0m 26ms/step - accuracy: 0.0061 - loss: 0.0382\n",
      "Epoch 30/40\n",
      "\u001b[1m327/327\u001b[0m \u001b[32m━━━━━━━━━━━━━━━━━━━━\u001b[0m\u001b[37m\u001b[0m \u001b[1m8s\u001b[0m 25ms/step - accuracy: 0.0061 - loss: 0.0359\n",
      "Epoch 31/40\n",
      "\u001b[1m327/327\u001b[0m \u001b[32m━━━━━━━━━━━━━━━━━━━━\u001b[0m\u001b[37m\u001b[0m \u001b[1m8s\u001b[0m 25ms/step - accuracy: 0.0061 - loss: 0.0346\n",
      "Epoch 32/40\n",
      "\u001b[1m327/327\u001b[0m \u001b[32m━━━━━━━━━━━━━━━━━━━━\u001b[0m\u001b[37m\u001b[0m \u001b[1m8s\u001b[0m 26ms/step - accuracy: 0.0061 - loss: 0.0350\n",
      "Epoch 33/40\n",
      "\u001b[1m327/327\u001b[0m \u001b[32m━━━━━━━━━━━━━━━━━━━━\u001b[0m\u001b[37m\u001b[0m \u001b[1m9s\u001b[0m 26ms/step - accuracy: 0.0061 - loss: 0.0351\n",
      "Epoch 34/40\n",
      "\u001b[1m327/327\u001b[0m \u001b[32m━━━━━━━━━━━━━━━━━━━━\u001b[0m\u001b[37m\u001b[0m \u001b[1m8s\u001b[0m 25ms/step - accuracy: 0.0061 - loss: 0.0302\n",
      "Epoch 35/40\n",
      "\u001b[1m327/327\u001b[0m \u001b[32m━━━━━━━━━━━━━━━━━━━━\u001b[0m\u001b[37m\u001b[0m \u001b[1m11s\u001b[0m 26ms/step - accuracy: 0.0061 - loss: 0.0286\n",
      "Epoch 36/40\n",
      "\u001b[1m327/327\u001b[0m \u001b[32m━━━━━━━━━━━━━━━━━━━━\u001b[0m\u001b[37m\u001b[0m \u001b[1m8s\u001b[0m 24ms/step - accuracy: 0.0061 - loss: 0.0274\n",
      "Epoch 37/40\n",
      "\u001b[1m327/327\u001b[0m \u001b[32m━━━━━━━━━━━━━━━━━━━━\u001b[0m\u001b[37m\u001b[0m \u001b[1m8s\u001b[0m 25ms/step - accuracy: 0.0046 - loss: 0.0266\n",
      "Epoch 38/40\n",
      "\u001b[1m327/327\u001b[0m \u001b[32m━━━━━━━━━━━━━━━━━━━━\u001b[0m\u001b[37m\u001b[0m \u001b[1m9s\u001b[0m 26ms/step - accuracy: 0.0046 - loss: 0.0241\n",
      "Epoch 39/40\n",
      "\u001b[1m327/327\u001b[0m \u001b[32m━━━━━━━━━━━━━━━━━━━━\u001b[0m\u001b[37m\u001b[0m \u001b[1m8s\u001b[0m 26ms/step - accuracy: 0.0061 - loss: 0.0242\n",
      "Epoch 40/40\n",
      "\u001b[1m327/327\u001b[0m \u001b[32m━━━━━━━━━━━━━━━━━━━━\u001b[0m\u001b[37m\u001b[0m \u001b[1m9s\u001b[0m 26ms/step - accuracy: 0.0061 - loss: 0.0220\n"
     ]
    }
   ],
   "source": [
    "# Compiling the RNN \n",
    "model.compile(optimizer = 'adam', loss = 'mean_squared_error',metrics=['accuracy']) \n",
    "history=model.fit(X_train, y_train,batch_size=2, epochs=40)"
   ]
  },
  {
   "cell_type": "code",
   "execution_count": 56,
   "id": "37bb9e82-e467-4dbe-a02e-684fde8025d7",
   "metadata": {},
   "outputs": [
    {
     "data": {
      "text/html": [
       "<pre style=\"white-space:pre;overflow-x:auto;line-height:normal;font-family:Menlo,'DejaVu Sans Mono',consolas,'Courier New',monospace\"><span style=\"font-weight: bold\">Model: \"sequential\"</span>\n",
       "</pre>\n"
      ],
      "text/plain": [
       "\u001b[1mModel: \"sequential\"\u001b[0m\n"
      ]
     },
     "metadata": {},
     "output_type": "display_data"
    },
    {
     "data": {
      "text/html": [
       "<pre style=\"white-space:pre;overflow-x:auto;line-height:normal;font-family:Menlo,'DejaVu Sans Mono',consolas,'Courier New',monospace\">┏━━━━━━━━━━━━━━━━━━━━━━━━━━━━━━━━━━━━━━┳━━━━━━━━━━━━━━━━━━━━━━━━━━━━━┳━━━━━━━━━━━━━━━━━┓\n",
       "┃<span style=\"font-weight: bold\"> Layer (type)                         </span>┃<span style=\"font-weight: bold\"> Output Shape                </span>┃<span style=\"font-weight: bold\">         Param # </span>┃\n",
       "┡━━━━━━━━━━━━━━━━━━━━━━━━━━━━━━━━━━━━━━╇━━━━━━━━━━━━━━━━━━━━━━━━━━━━━╇━━━━━━━━━━━━━━━━━┩\n",
       "│ lstm (<span style=\"color: #0087ff; text-decoration-color: #0087ff\">LSTM</span>)                          │ (<span style=\"color: #00d7ff; text-decoration-color: #00d7ff\">None</span>, <span style=\"color: #00af00; text-decoration-color: #00af00\">60</span>, <span style=\"color: #00af00; text-decoration-color: #00af00\">24</span>)              │           <span style=\"color: #00af00; text-decoration-color: #00af00\">4,032</span> │\n",
       "├──────────────────────────────────────┼─────────────────────────────┼─────────────────┤\n",
       "│ dropout (<span style=\"color: #0087ff; text-decoration-color: #0087ff\">Dropout</span>)                    │ (<span style=\"color: #00d7ff; text-decoration-color: #00d7ff\">None</span>, <span style=\"color: #00af00; text-decoration-color: #00af00\">60</span>, <span style=\"color: #00af00; text-decoration-color: #00af00\">24</span>)              │               <span style=\"color: #00af00; text-decoration-color: #00af00\">0</span> │\n",
       "├──────────────────────────────────────┼─────────────────────────────┼─────────────────┤\n",
       "│ lstm_1 (<span style=\"color: #0087ff; text-decoration-color: #0087ff\">LSTM</span>)                        │ (<span style=\"color: #00d7ff; text-decoration-color: #00d7ff\">None</span>, <span style=\"color: #00af00; text-decoration-color: #00af00\">50</span>)                  │          <span style=\"color: #00af00; text-decoration-color: #00af00\">15,000</span> │\n",
       "├──────────────────────────────────────┼─────────────────────────────┼─────────────────┤\n",
       "│ dense (<span style=\"color: #0087ff; text-decoration-color: #0087ff\">Dense</span>)                        │ (<span style=\"color: #00d7ff; text-decoration-color: #00d7ff\">None</span>, <span style=\"color: #00af00; text-decoration-color: #00af00\">10</span>)                  │             <span style=\"color: #00af00; text-decoration-color: #00af00\">510</span> │\n",
       "├──────────────────────────────────────┼─────────────────────────────┼─────────────────┤\n",
       "│ dense_1 (<span style=\"color: #0087ff; text-decoration-color: #0087ff\">Dense</span>)                      │ (<span style=\"color: #00d7ff; text-decoration-color: #00d7ff\">None</span>, <span style=\"color: #00af00; text-decoration-color: #00af00\">1</span>)                   │              <span style=\"color: #00af00; text-decoration-color: #00af00\">11</span> │\n",
       "└──────────────────────────────────────┴─────────────────────────────┴─────────────────┘\n",
       "</pre>\n"
      ],
      "text/plain": [
       "┏━━━━━━━━━━━━━━━━━━━━━━━━━━━━━━━━━━━━━━┳━━━━━━━━━━━━━━━━━━━━━━━━━━━━━┳━━━━━━━━━━━━━━━━━┓\n",
       "┃\u001b[1m \u001b[0m\u001b[1mLayer (type)                        \u001b[0m\u001b[1m \u001b[0m┃\u001b[1m \u001b[0m\u001b[1mOutput Shape               \u001b[0m\u001b[1m \u001b[0m┃\u001b[1m \u001b[0m\u001b[1m        Param #\u001b[0m\u001b[1m \u001b[0m┃\n",
       "┡━━━━━━━━━━━━━━━━━━━━━━━━━━━━━━━━━━━━━━╇━━━━━━━━━━━━━━━━━━━━━━━━━━━━━╇━━━━━━━━━━━━━━━━━┩\n",
       "│ lstm (\u001b[38;5;33mLSTM\u001b[0m)                          │ (\u001b[38;5;45mNone\u001b[0m, \u001b[38;5;34m60\u001b[0m, \u001b[38;5;34m24\u001b[0m)              │           \u001b[38;5;34m4,032\u001b[0m │\n",
       "├──────────────────────────────────────┼─────────────────────────────┼─────────────────┤\n",
       "│ dropout (\u001b[38;5;33mDropout\u001b[0m)                    │ (\u001b[38;5;45mNone\u001b[0m, \u001b[38;5;34m60\u001b[0m, \u001b[38;5;34m24\u001b[0m)              │               \u001b[38;5;34m0\u001b[0m │\n",
       "├──────────────────────────────────────┼─────────────────────────────┼─────────────────┤\n",
       "│ lstm_1 (\u001b[38;5;33mLSTM\u001b[0m)                        │ (\u001b[38;5;45mNone\u001b[0m, \u001b[38;5;34m50\u001b[0m)                  │          \u001b[38;5;34m15,000\u001b[0m │\n",
       "├──────────────────────────────────────┼─────────────────────────────┼─────────────────┤\n",
       "│ dense (\u001b[38;5;33mDense\u001b[0m)                        │ (\u001b[38;5;45mNone\u001b[0m, \u001b[38;5;34m10\u001b[0m)                  │             \u001b[38;5;34m510\u001b[0m │\n",
       "├──────────────────────────────────────┼─────────────────────────────┼─────────────────┤\n",
       "│ dense_1 (\u001b[38;5;33mDense\u001b[0m)                      │ (\u001b[38;5;45mNone\u001b[0m, \u001b[38;5;34m1\u001b[0m)                   │              \u001b[38;5;34m11\u001b[0m │\n",
       "└──────────────────────────────────────┴─────────────────────────────┴─────────────────┘\n"
      ]
     },
     "metadata": {},
     "output_type": "display_data"
    },
    {
     "data": {
      "text/html": [
       "<pre style=\"white-space:pre;overflow-x:auto;line-height:normal;font-family:Menlo,'DejaVu Sans Mono',consolas,'Courier New',monospace\"><span style=\"font-weight: bold\"> Total params: </span><span style=\"color: #00af00; text-decoration-color: #00af00\">58,661</span> (229.15 KB)\n",
       "</pre>\n"
      ],
      "text/plain": [
       "\u001b[1m Total params: \u001b[0m\u001b[38;5;34m58,661\u001b[0m (229.15 KB)\n"
      ]
     },
     "metadata": {},
     "output_type": "display_data"
    },
    {
     "data": {
      "text/html": [
       "<pre style=\"white-space:pre;overflow-x:auto;line-height:normal;font-family:Menlo,'DejaVu Sans Mono',consolas,'Courier New',monospace\"><span style=\"font-weight: bold\"> Trainable params: </span><span style=\"color: #00af00; text-decoration-color: #00af00\">19,553</span> (76.38 KB)\n",
       "</pre>\n"
      ],
      "text/plain": [
       "\u001b[1m Trainable params: \u001b[0m\u001b[38;5;34m19,553\u001b[0m (76.38 KB)\n"
      ]
     },
     "metadata": {},
     "output_type": "display_data"
    },
    {
     "data": {
      "text/html": [
       "<pre style=\"white-space:pre;overflow-x:auto;line-height:normal;font-family:Menlo,'DejaVu Sans Mono',consolas,'Courier New',monospace\"><span style=\"font-weight: bold\"> Non-trainable params: </span><span style=\"color: #00af00; text-decoration-color: #00af00\">0</span> (0.00 B)\n",
       "</pre>\n"
      ],
      "text/plain": [
       "\u001b[1m Non-trainable params: \u001b[0m\u001b[38;5;34m0\u001b[0m (0.00 B)\n"
      ]
     },
     "metadata": {},
     "output_type": "display_data"
    },
    {
     "data": {
      "text/html": [
       "<pre style=\"white-space:pre;overflow-x:auto;line-height:normal;font-family:Menlo,'DejaVu Sans Mono',consolas,'Courier New',monospace\"><span style=\"font-weight: bold\"> Optimizer params: </span><span style=\"color: #00af00; text-decoration-color: #00af00\">39,108</span> (152.77 KB)\n",
       "</pre>\n"
      ],
      "text/plain": [
       "\u001b[1m Optimizer params: \u001b[0m\u001b[38;5;34m39,108\u001b[0m (152.77 KB)\n"
      ]
     },
     "metadata": {},
     "output_type": "display_data"
    }
   ],
   "source": [
    "# Model summary for number of parameters use in the algorithm  \n",
    "model.summary()"
   ]
  },
  {
   "cell_type": "code",
   "execution_count": 57,
   "id": "22caa709-f58a-4a1b-825a-c862e2a66347",
   "metadata": {},
   "outputs": [],
   "source": [
    "def graph(): \n",
    "    #Plot training & validation accuracy values \n",
    "    plt.plot(history.history['accuracy']) \n",
    "    plt.plot(history.history['loss']) \n",
    "    plt.title('Model accuracy') \n",
    "    plt.ylabel('Accuracy') \n",
    "    plt.xlabel('Epoch') \n",
    "    plt.legend(['Train', 'Test'], loc='upper left') \n",
    "    plt.show() \n",
    "    # Plot training & validation loss values \n",
    "    plt.plot(history.history['accuracy']) \n",
    "    plt.plot(history.history['loss']) \n",
    "    plt.title('Model loss') \n",
    "    plt.ylabel('Loss') \n",
    "    plt.xlabel('Epoch') \n",
    "    plt.legend(['Train', 'Test'], loc='upper left') \n",
    "    plt.show() "
   ]
  },
  {
   "cell_type": "code",
   "execution_count": 58,
   "id": "3c8a8929-96dd-4d35-9267-c0fc1a0cb018",
   "metadata": {},
   "outputs": [
    {
     "data": {
      "image/png": "[encoded data removed]",
      "text/plain": [
       "<Figure size 640x480 with 1 Axes>"
      ]
     },
     "metadata": {},
     "output_type": "display_data"
    },
    {
     "data": {
      "image/png": "[encoded data removed]",
      "text/plain": [
       "<Figure size 640x480 with 1 Axes>"
      ]
     },
     "metadata": {},
     "output_type": "display_data"
    }
   ],
   "source": [
    "graph()"
   ]
  },
  {
   "cell_type": "code",
   "execution_count": 59,
   "id": "e8057d36-22e6-43b6-8172-0743fb55d368",
   "metadata": {},
   "outputs": [
    {
     "name": "stdout",
     "output_type": "stream",
     "text": [
      "\u001b[1m11/11\u001b[0m \u001b[32m━━━━━━━━━━━━━━━━━━━━\u001b[0m\u001b[37m\u001b[0m \u001b[1m1s\u001b[0m 62ms/step\n"
     ]
    }
   ],
   "source": [
    "scores = model.predict(X_test) "
   ]
  },
  {
   "cell_type": "code",
   "execution_count": 60,
   "id": "c951416d-984e-41b1-b1a5-92834d142643",
   "metadata": {},
   "outputs": [],
   "source": [
    "import math, time "
   ]
  },
  {
   "cell_type": "code",
   "execution_count": 61,
   "id": "c12572af-93cf-49a7-911c-2f0b6b2d01a2",
   "metadata": {},
   "outputs": [
    {
     "name": "stdout",
     "output_type": "stream",
     "text": [
      "\n"
     ]
    }
   ],
   "source": [
    "print(\"\") \n",
    "trainScore = model.evaluate(X_train, y_train, verbose=0)"
   ]
  },
  {
   "cell_type": "code",
   "execution_count": 62,
   "id": "8986c797-a463-43f0-9940-1026199a164b",
   "metadata": {},
   "outputs": [
    {
     "name": "stdout",
     "output_type": "stream",
     "text": [
      "Train Score: 0.02 MSE (0.14 RMSE)\n",
      "\n"
     ]
    }
   ],
   "source": [
    "print('Train Score: %.2f MSE (%.2f RMSE)' % (trainScore[0], math.sqrt(trainScore[0]))) \n",
    "print(\"\")"
   ]
  },
  {
   "cell_type": "code",
   "execution_count": 63,
   "id": "265487eb-275b-4b69-8437-f60ac0cc508e",
   "metadata": {},
   "outputs": [
    {
     "name": "stdout",
     "output_type": "stream",
     "text": [
      "Test Score: 0.15 MSE (0.39 RMSE)\n"
     ]
    }
   ],
   "source": [
    "testScore = model.evaluate(X_test, y_test, verbose=0) \n",
    "print('Test Score: %.2f MSE (%.2f RMSE)' % (testScore[0], math.sqrt(testScore[0]))) "
   ]
  },
  {
   "cell_type": "code",
   "execution_count": null,
   "id": "d071d30a-2d3f-435c-b341-a466b6d71ec6",
   "metadata": {},
   "outputs": [],
   "source": []
  }
 ],
 "metadata": {
  "kernelspec": {
   "display_name": "Python 3 (ipykernel)",
   "language": "python",
   "name": "python3"
  },
  "language_info": {
   "codemirror_mode": {
    "name": "ipython",
    "version": 3
   },
   "file_extension": ".py",
   "mimetype": "text/x-python",
   "name": "python",
   "nbconvert_exporter": "python",
   "pygments_lexer": "ipython3",
   "version": "3.10.2"
  }
 },
 "nbformat": 4,
 "nbformat_minor": 5
}
