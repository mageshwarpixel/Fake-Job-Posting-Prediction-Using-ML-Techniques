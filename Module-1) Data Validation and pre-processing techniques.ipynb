{
 "cells": [
  {
   "cell_type": "code",
   "execution_count": 1,
   "id": "9903c38d-8c65-4ac4-b241-a6fa4c1c4d70",
   "metadata": {},
   "outputs": [],
   "source": [
    "import pandas as p "
   ]
  },
  {
   "cell_type": "code",
   "execution_count": 2,
   "id": "42e9a9b0-dd30-495a-be6f-37667c0e239e",
   "metadata": {},
   "outputs": [],
   "source": [
    "import numpy as n "
   ]
  },
  {
   "cell_type": "code",
   "execution_count": 3,
   "id": "61680c82-23b6-4d05-bce2-09b1f84a9ec3",
   "metadata": {},
   "outputs": [],
   "source": [
    "import warnings "
   ]
  },
  {
   "cell_type": "code",
   "execution_count": 4,
   "id": "3f4fd63b-cee1-438b-8557-846d76462ec2",
   "metadata": {},
   "outputs": [],
   "source": [
    "warnings.filterwarnings(\"ignore\") "
   ]
  },
  {
   "cell_type": "code",
   "execution_count": 5,
   "id": "34d37274-4b65-4690-a501-92e1c9524422",
   "metadata": {},
   "outputs": [],
   "source": [
    "data = p.read_csv('fake_job_postings.csv')"
   ]
  },
  {
   "cell_type": "code",
   "execution_count": 7,
   "id": "3d75a41a-38c1-4d26-ab5d-7c06a80539f1",
   "metadata": {},
   "outputs": [
    {
     "data": {
      "text/html": [
       "<div>\n",
       "<style scoped>\n",
       "    .dataframe tbody tr th:only-of-type {\n",
       "        vertical-align: middle;\n",
       "    }\n",
       "\n",
       "    .dataframe tbody tr th {\n",
       "        vertical-align: top;\n",
       "    }\n",
       "\n",
       "    .dataframe thead th {\n",
       "        text-align: right;\n",
       "    }\n",
       "</style>\n",
       "<table border=\"1\" class=\"dataframe\">\n",
       "  <thead>\n",
       "    <tr style=\"text-align: right;\">\n",
       "      <th></th>\n",
       "      <th>job_id</th>\n",
       "      <th>title</th>\n",
       "      <th>location</th>\n",
       "      <th>department</th>\n",
       "      <th>salary_range</th>\n",
       "      <th>company_profile</th>\n",
       "      <th>description</th>\n",
       "      <th>requirements</th>\n",
       "      <th>benefits</th>\n",
       "      <th>telecommuting</th>\n",
       "      <th>has_company_logo</th>\n",
       "      <th>has_questions</th>\n",
       "      <th>employment_type</th>\n",
       "      <th>required_experience</th>\n",
       "      <th>required_education</th>\n",
       "      <th>industry</th>\n",
       "      <th>function</th>\n",
       "      <th>fraudulent</th>\n",
       "    </tr>\n",
       "  </thead>\n",
       "  <tbody>\n",
       "    <tr>\n",
       "      <th>0</th>\n",
       "      <td>1</td>\n",
       "      <td>Marketing Intern</td>\n",
       "      <td>US, NY, New York</td>\n",
       "      <td>Marketing</td>\n",
       "      <td>NaN</td>\n",
       "      <td>We're Food52, and we've created a groundbreaki...</td>\n",
       "      <td>Food52, a fast-growing, James Beard Award-winn...</td>\n",
       "      <td>Experience with content management systems a m...</td>\n",
       "      <td>NaN</td>\n",
       "      <td>0</td>\n",
       "      <td>1</td>\n",
       "      <td>0</td>\n",
       "      <td>Other</td>\n",
       "      <td>Internship</td>\n",
       "      <td>NaN</td>\n",
       "      <td>NaN</td>\n",
       "      <td>Marketing</td>\n",
       "      <td>0</td>\n",
       "    </tr>\n",
       "    <tr>\n",
       "      <th>1</th>\n",
       "      <td>2</td>\n",
       "      <td>Customer Service - Cloud Video Production</td>\n",
       "      <td>NZ, , Auckland</td>\n",
       "      <td>Success</td>\n",
       "      <td>NaN</td>\n",
       "      <td>90 Seconds, the worlds Cloud Video Production ...</td>\n",
       "      <td>Organised - Focused - Vibrant - Awesome!Do you...</td>\n",
       "      <td>What we expect from you:Your key responsibilit...</td>\n",
       "      <td>What you will get from usThrough being part of...</td>\n",
       "      <td>0</td>\n",
       "      <td>1</td>\n",
       "      <td>0</td>\n",
       "      <td>Full-time</td>\n",
       "      <td>Not Applicable</td>\n",
       "      <td>NaN</td>\n",
       "      <td>Marketing and Advertising</td>\n",
       "      <td>Customer Service</td>\n",
       "      <td>0</td>\n",
       "    </tr>\n",
       "    <tr>\n",
       "      <th>2</th>\n",
       "      <td>3</td>\n",
       "      <td>Commissioning Machinery Assistant (CMA)</td>\n",
       "      <td>US, IA, Wever</td>\n",
       "      <td>NaN</td>\n",
       "      <td>NaN</td>\n",
       "      <td>Valor Services provides Workforce Solutions th...</td>\n",
       "      <td>Our client, located in Houston, is actively se...</td>\n",
       "      <td>Implement pre-commissioning and commissioning ...</td>\n",
       "      <td>NaN</td>\n",
       "      <td>0</td>\n",
       "      <td>1</td>\n",
       "      <td>0</td>\n",
       "      <td>NaN</td>\n",
       "      <td>NaN</td>\n",
       "      <td>NaN</td>\n",
       "      <td>NaN</td>\n",
       "      <td>NaN</td>\n",
       "      <td>0</td>\n",
       "    </tr>\n",
       "    <tr>\n",
       "      <th>3</th>\n",
       "      <td>4</td>\n",
       "      <td>Account Executive - Washington DC</td>\n",
       "      <td>US, DC, Washington</td>\n",
       "      <td>Sales</td>\n",
       "      <td>NaN</td>\n",
       "      <td>Our passion for improving quality of life thro...</td>\n",
       "      <td>THE COMPANY: ESRI – Environmental Systems Rese...</td>\n",
       "      <td>EDUCATION: Bachelor’s or Master’s in GIS, busi...</td>\n",
       "      <td>Our culture is anything but corporate—we have ...</td>\n",
       "      <td>0</td>\n",
       "      <td>1</td>\n",
       "      <td>0</td>\n",
       "      <td>Full-time</td>\n",
       "      <td>Mid-Senior level</td>\n",
       "      <td>Bachelor's Degree</td>\n",
       "      <td>Computer Software</td>\n",
       "      <td>Sales</td>\n",
       "      <td>0</td>\n",
       "    </tr>\n",
       "    <tr>\n",
       "      <th>4</th>\n",
       "      <td>5</td>\n",
       "      <td>Bill Review Manager</td>\n",
       "      <td>US, FL, Fort Worth</td>\n",
       "      <td>NaN</td>\n",
       "      <td>NaN</td>\n",
       "      <td>SpotSource Solutions LLC is a Global Human Cap...</td>\n",
       "      <td>JOB TITLE: Itemization Review ManagerLOCATION:...</td>\n",
       "      <td>QUALIFICATIONS:RN license in the State of Texa...</td>\n",
       "      <td>Full Benefits Offered</td>\n",
       "      <td>0</td>\n",
       "      <td>1</td>\n",
       "      <td>1</td>\n",
       "      <td>Full-time</td>\n",
       "      <td>Mid-Senior level</td>\n",
       "      <td>Bachelor's Degree</td>\n",
       "      <td>Hospital &amp; Health Care</td>\n",
       "      <td>Health Care Provider</td>\n",
       "      <td>0</td>\n",
       "    </tr>\n",
       "  </tbody>\n",
       "</table>\n",
       "</div>"
      ],
      "text/plain": [
       "   job_id                                      title            location  \\\n",
       "0       1                           Marketing Intern    US, NY, New York   \n",
       "1       2  Customer Service - Cloud Video Production      NZ, , Auckland   \n",
       "2       3    Commissioning Machinery Assistant (CMA)       US, IA, Wever   \n",
       "3       4          Account Executive - Washington DC  US, DC, Washington   \n",
       "4       5                        Bill Review Manager  US, FL, Fort Worth   \n",
       "\n",
       "  department salary_range                                    company_profile  \\\n",
       "0  Marketing          NaN  We're Food52, and we've created a groundbreaki...   \n",
       "1    Success          NaN  90 Seconds, the worlds Cloud Video Production ...   \n",
       "2        NaN          NaN  Valor Services provides Workforce Solutions th...   \n",
       "3      Sales          NaN  Our passion for improving quality of life thro...   \n",
       "4        NaN          NaN  SpotSource Solutions LLC is a Global Human Cap...   \n",
       "\n",
       "                                         description  \\\n",
       "0  Food52, a fast-growing, James Beard Award-winn...   \n",
       "1  Organised - Focused - Vibrant - Awesome!Do you...   \n",
       "2  Our client, located in Houston, is actively se...   \n",
       "3  THE COMPANY: ESRI – Environmental Systems Rese...   \n",
       "4  JOB TITLE: Itemization Review ManagerLOCATION:...   \n",
       "\n",
       "                                        requirements  \\\n",
       "0  Experience with content management systems a m...   \n",
       "1  What we expect from you:Your key responsibilit...   \n",
       "2  Implement pre-commissioning and commissioning ...   \n",
       "3  EDUCATION: Bachelor’s or Master’s in GIS, busi...   \n",
       "4  QUALIFICATIONS:RN license in the State of Texa...   \n",
       "\n",
       "                                            benefits  telecommuting  \\\n",
       "0                                                NaN              0   \n",
       "1  What you will get from usThrough being part of...              0   \n",
       "2                                                NaN              0   \n",
       "3  Our culture is anything but corporate—we have ...              0   \n",
       "4                              Full Benefits Offered              0   \n",
       "\n",
       "   has_company_logo  has_questions employment_type required_experience  \\\n",
       "0                 1              0           Other          Internship   \n",
       "1                 1              0       Full-time      Not Applicable   \n",
       "2                 1              0             NaN                 NaN   \n",
       "3                 1              0       Full-time    Mid-Senior level   \n",
       "4                 1              1       Full-time    Mid-Senior level   \n",
       "\n",
       "  required_education                   industry              function  \\\n",
       "0                NaN                        NaN             Marketing   \n",
       "1                NaN  Marketing and Advertising      Customer Service   \n",
       "2                NaN                        NaN                   NaN   \n",
       "3  Bachelor's Degree          Computer Software                 Sales   \n",
       "4  Bachelor's Degree     Hospital & Health Care  Health Care Provider   \n",
       "\n",
       "   fraudulent  \n",
       "0           0  \n",
       "1           0  \n",
       "2           0  \n",
       "3           0  \n",
       "4           0  "
      ]
     },
     "execution_count": 7,
     "metadata": {},
     "output_type": "execute_result"
    }
   ],
   "source": [
    "data.head()"
   ]
  },
  {
   "cell_type": "code",
   "execution_count": 8,
   "id": "272cf4d4-697a-4208-8180-e8775806646b",
   "metadata": {},
   "outputs": [
    {
     "data": {
      "text/plain": [
       "(17880, 18)"
      ]
     },
     "execution_count": 8,
     "metadata": {},
     "output_type": "execute_result"
    }
   ],
   "source": [
    "#shape \n",
    "data.shape "
   ]
  },
  {
   "cell_type": "code",
   "execution_count": 9,
   "id": "3f941dda-3cba-4aa8-ba8b-bed32817c31f",
   "metadata": {},
   "outputs": [],
   "source": [
    "df=data.dropna() "
   ]
  },
  {
   "cell_type": "code",
   "execution_count": 10,
   "id": "ddeb777a-70bf-434c-9a40-023280994a8c",
   "metadata": {},
   "outputs": [
    {
     "data": {
      "text/html": [
       "<div>\n",
       "<style scoped>\n",
       "    .dataframe tbody tr th:only-of-type {\n",
       "        vertical-align: middle;\n",
       "    }\n",
       "\n",
       "    .dataframe tbody tr th {\n",
       "        vertical-align: top;\n",
       "    }\n",
       "\n",
       "    .dataframe thead th {\n",
       "        text-align: right;\n",
       "    }\n",
       "</style>\n",
       "<table border=\"1\" class=\"dataframe\">\n",
       "  <thead>\n",
       "    <tr style=\"text-align: right;\">\n",
       "      <th></th>\n",
       "      <th>job_id</th>\n",
       "      <th>title</th>\n",
       "      <th>location</th>\n",
       "      <th>department</th>\n",
       "      <th>salary_range</th>\n",
       "      <th>company_profile</th>\n",
       "      <th>description</th>\n",
       "      <th>requirements</th>\n",
       "      <th>benefits</th>\n",
       "      <th>telecommuting</th>\n",
       "      <th>has_company_logo</th>\n",
       "      <th>has_questions</th>\n",
       "      <th>employment_type</th>\n",
       "      <th>required_experience</th>\n",
       "      <th>required_education</th>\n",
       "      <th>industry</th>\n",
       "      <th>function</th>\n",
       "      <th>fraudulent</th>\n",
       "    </tr>\n",
       "  </thead>\n",
       "  <tbody>\n",
       "    <tr>\n",
       "      <th>6</th>\n",
       "      <td>7</td>\n",
       "      <td>Head of Content (m/f)</td>\n",
       "      <td>DE, BE, Berlin</td>\n",
       "      <td>ANDROIDPIT</td>\n",
       "      <td>20000-28000</td>\n",
       "      <td>Founded in 2009, the Fonpit AG rose with its i...</td>\n",
       "      <td>Your Responsibilities: Manage the English-spea...</td>\n",
       "      <td>Your Know-How:                                ...</td>\n",
       "      <td>Your Benefits: Being part of a fast-growing co...</td>\n",
       "      <td>0</td>\n",
       "      <td>1</td>\n",
       "      <td>1</td>\n",
       "      <td>Full-time</td>\n",
       "      <td>Mid-Senior level</td>\n",
       "      <td>Master's Degree</td>\n",
       "      <td>Online Media</td>\n",
       "      <td>Management</td>\n",
       "      <td>0</td>\n",
       "    </tr>\n",
       "    <tr>\n",
       "      <th>15</th>\n",
       "      <td>16</td>\n",
       "      <td>VP of Sales - Vault Dragon</td>\n",
       "      <td>SG, 01, Singapore</td>\n",
       "      <td>Sales</td>\n",
       "      <td>120000-150000</td>\n",
       "      <td>Jungle Ventures is the leading Singapore based...</td>\n",
       "      <td>About Vault Dragon Vault Dragon is Dropbox for...</td>\n",
       "      <td>Key Superpowers3-5 years of high-pressure sale...</td>\n",
       "      <td>Basic: SGD 120,000Equity negotiable for a rock...</td>\n",
       "      <td>0</td>\n",
       "      <td>1</td>\n",
       "      <td>1</td>\n",
       "      <td>Full-time</td>\n",
       "      <td>Executive</td>\n",
       "      <td>Bachelor's Degree</td>\n",
       "      <td>Facilities Services</td>\n",
       "      <td>Sales</td>\n",
       "      <td>0</td>\n",
       "    </tr>\n",
       "    <tr>\n",
       "      <th>23</th>\n",
       "      <td>24</td>\n",
       "      <td>Vice President, Sales and Sponsorship (Busines...</td>\n",
       "      <td>US, CA, Carlsbad</td>\n",
       "      <td>Businessfriend.com</td>\n",
       "      <td>100000-120000</td>\n",
       "      <td>WDM Group is an innovative, forward thinking d...</td>\n",
       "      <td>#URL_eda2500ddcedb60957fcd7f5b164e092966f8c4e8...</td>\n",
       "      <td>Job Requirements:A reputation as a \"go-getter\"...</td>\n",
       "      <td>Businessfriend will offer a competitive six fi...</td>\n",
       "      <td>0</td>\n",
       "      <td>1</td>\n",
       "      <td>0</td>\n",
       "      <td>Full-time</td>\n",
       "      <td>Executive</td>\n",
       "      <td>Unspecified</td>\n",
       "      <td>Internet</td>\n",
       "      <td>Sales</td>\n",
       "      <td>0</td>\n",
       "    </tr>\n",
       "    <tr>\n",
       "      <th>98</th>\n",
       "      <td>99</td>\n",
       "      <td>IC&amp;E Technician</td>\n",
       "      <td>US, , Stocton, CA</td>\n",
       "      <td>Oil &amp; Energy</td>\n",
       "      <td>95000-115000</td>\n",
       "      <td>...</td>\n",
       "      <td>IC&amp;amp;E Technician | Bakersfield, CA Mt. Poso...</td>\n",
       "      <td>QualificationsKnowledge, Skills &amp;amp; Abilitie...</td>\n",
       "      <td>BENEFITSWhat is offered:Competitive compensati...</td>\n",
       "      <td>0</td>\n",
       "      <td>1</td>\n",
       "      <td>1</td>\n",
       "      <td>Full-time</td>\n",
       "      <td>Mid-Senior level</td>\n",
       "      <td>High School or equivalent</td>\n",
       "      <td>Oil &amp; Energy</td>\n",
       "      <td>Other</td>\n",
       "      <td>1</td>\n",
       "    </tr>\n",
       "    <tr>\n",
       "      <th>102</th>\n",
       "      <td>103</td>\n",
       "      <td>Marketing Administrator</td>\n",
       "      <td>GB, WAR, Coventry</td>\n",
       "      <td>Marketplace</td>\n",
       "      <td>15000-18000</td>\n",
       "      <td>Renewable Energy and Environmental Protection ...</td>\n",
       "      <td>The job is to support the growth of the #URL_9...</td>\n",
       "      <td>Computer literateAble to work with HTML, altho...</td>\n",
       "      <td>For a suitably motivated and success orientate...</td>\n",
       "      <td>1</td>\n",
       "      <td>1</td>\n",
       "      <td>0</td>\n",
       "      <td>Full-time</td>\n",
       "      <td>Entry level</td>\n",
       "      <td>Bachelor's Degree</td>\n",
       "      <td>Internet</td>\n",
       "      <td>Marketing</td>\n",
       "      <td>0</td>\n",
       "    </tr>\n",
       "  </tbody>\n",
       "</table>\n",
       "</div>"
      ],
      "text/plain": [
       "     job_id                                              title  \\\n",
       "6         7                              Head of Content (m/f)   \n",
       "15       16                         VP of Sales - Vault Dragon   \n",
       "23       24  Vice President, Sales and Sponsorship (Busines...   \n",
       "98       99                                    IC&E Technician   \n",
       "102     103                            Marketing Administrator   \n",
       "\n",
       "              location          department   salary_range  \\\n",
       "6       DE, BE, Berlin          ANDROIDPIT    20000-28000   \n",
       "15   SG, 01, Singapore               Sales  120000-150000   \n",
       "23    US, CA, Carlsbad  Businessfriend.com  100000-120000   \n",
       "98   US, , Stocton, CA        Oil & Energy   95000-115000   \n",
       "102  GB, WAR, Coventry         Marketplace    15000-18000   \n",
       "\n",
       "                                       company_profile  \\\n",
       "6    Founded in 2009, the Fonpit AG rose with its i...   \n",
       "15   Jungle Ventures is the leading Singapore based...   \n",
       "23   WDM Group is an innovative, forward thinking d...   \n",
       "98                                                 ...   \n",
       "102  Renewable Energy and Environmental Protection ...   \n",
       "\n",
       "                                           description  \\\n",
       "6    Your Responsibilities: Manage the English-spea...   \n",
       "15   About Vault Dragon Vault Dragon is Dropbox for...   \n",
       "23   #URL_eda2500ddcedb60957fcd7f5b164e092966f8c4e8...   \n",
       "98   IC&amp;E Technician | Bakersfield, CA Mt. Poso...   \n",
       "102  The job is to support the growth of the #URL_9...   \n",
       "\n",
       "                                          requirements  \\\n",
       "6    Your Know-How:                                ...   \n",
       "15   Key Superpowers3-5 years of high-pressure sale...   \n",
       "23   Job Requirements:A reputation as a \"go-getter\"...   \n",
       "98   QualificationsKnowledge, Skills &amp; Abilitie...   \n",
       "102  Computer literateAble to work with HTML, altho...   \n",
       "\n",
       "                                              benefits  telecommuting  \\\n",
       "6    Your Benefits: Being part of a fast-growing co...              0   \n",
       "15   Basic: SGD 120,000Equity negotiable for a rock...              0   \n",
       "23   Businessfriend will offer a competitive six fi...              0   \n",
       "98   BENEFITSWhat is offered:Competitive compensati...              0   \n",
       "102  For a suitably motivated and success orientate...              1   \n",
       "\n",
       "     has_company_logo  has_questions employment_type required_experience  \\\n",
       "6                   1              1       Full-time    Mid-Senior level   \n",
       "15                  1              1       Full-time           Executive   \n",
       "23                  1              0       Full-time           Executive   \n",
       "98                  1              1       Full-time    Mid-Senior level   \n",
       "102                 1              0       Full-time         Entry level   \n",
       "\n",
       "            required_education             industry    function  fraudulent  \n",
       "6              Master's Degree         Online Media  Management           0  \n",
       "15           Bachelor's Degree  Facilities Services       Sales           0  \n",
       "23                 Unspecified             Internet       Sales           0  \n",
       "98   High School or equivalent         Oil & Energy       Other           1  \n",
       "102          Bachelor's Degree             Internet   Marketing           0  "
      ]
     },
     "execution_count": 10,
     "metadata": {},
     "output_type": "execute_result"
    }
   ],
   "source": [
    "df.head() "
   ]
  },
  {
   "cell_type": "code",
   "execution_count": 11,
   "id": "12251c2e-10c8-46ca-83bd-6f49b05fde9b",
   "metadata": {},
   "outputs": [
    {
     "data": {
      "text/plain": [
       "(774, 18)"
      ]
     },
     "execution_count": 11,
     "metadata": {},
     "output_type": "execute_result"
    }
   ],
   "source": [
    "df.shape"
   ]
  },
  {
   "cell_type": "code",
   "execution_count": 12,
   "id": "ec15d2b1-0948-416c-9118-fc64fbd6bc3a",
   "metadata": {},
   "outputs": [
    {
     "data": {
      "text/plain": [
       "Index(['job_id', 'title', 'location', 'department', 'salary_range',\n",
       "       'company_profile', 'description', 'requirements', 'benefits',\n",
       "       'telecommuting', 'has_company_logo', 'has_questions', 'employment_type',\n",
       "       'required_experience', 'required_education', 'industry', 'function',\n",
       "       'fraudulent'],\n",
       "      dtype='object')"
      ]
     },
     "execution_count": 12,
     "metadata": {},
     "output_type": "execute_result"
    }
   ],
   "source": [
    "#show columns \n",
    "df.columns "
   ]
  },
  {
   "cell_type": "code",
   "execution_count": 13,
   "id": "215209e4-8667-4125-bc43-d0cd8874f366",
   "metadata": {},
   "outputs": [
    {
     "data": {
      "text/html": [
       "<div>\n",
       "<style scoped>\n",
       "    .dataframe tbody tr th:only-of-type {\n",
       "        vertical-align: middle;\n",
       "    }\n",
       "\n",
       "    .dataframe tbody tr th {\n",
       "        vertical-align: top;\n",
       "    }\n",
       "\n",
       "    .dataframe thead th {\n",
       "        text-align: right;\n",
       "    }\n",
       "</style>\n",
       "<table border=\"1\" class=\"dataframe\">\n",
       "  <thead>\n",
       "    <tr style=\"text-align: right;\">\n",
       "      <th></th>\n",
       "      <th>job_id</th>\n",
       "      <th>telecommuting</th>\n",
       "      <th>has_company_logo</th>\n",
       "      <th>has_questions</th>\n",
       "      <th>fraudulent</th>\n",
       "    </tr>\n",
       "  </thead>\n",
       "  <tbody>\n",
       "    <tr>\n",
       "      <th>count</th>\n",
       "      <td>774.000000</td>\n",
       "      <td>774.000000</td>\n",
       "      <td>774.000000</td>\n",
       "      <td>774.000000</td>\n",
       "      <td>774.000000</td>\n",
       "    </tr>\n",
       "    <tr>\n",
       "      <th>mean</th>\n",
       "      <td>8664.093023</td>\n",
       "      <td>0.094315</td>\n",
       "      <td>0.978036</td>\n",
       "      <td>0.673127</td>\n",
       "      <td>0.093023</td>\n",
       "    </tr>\n",
       "    <tr>\n",
       "      <th>std</th>\n",
       "      <td>5014.106692</td>\n",
       "      <td>0.292456</td>\n",
       "      <td>0.146660</td>\n",
       "      <td>0.469374</td>\n",
       "      <td>0.290653</td>\n",
       "    </tr>\n",
       "    <tr>\n",
       "      <th>min</th>\n",
       "      <td>7.000000</td>\n",
       "      <td>0.000000</td>\n",
       "      <td>0.000000</td>\n",
       "      <td>0.000000</td>\n",
       "      <td>0.000000</td>\n",
       "    </tr>\n",
       "    <tr>\n",
       "      <th>25%</th>\n",
       "      <td>4483.500000</td>\n",
       "      <td>0.000000</td>\n",
       "      <td>1.000000</td>\n",
       "      <td>0.000000</td>\n",
       "      <td>0.000000</td>\n",
       "    </tr>\n",
       "    <tr>\n",
       "      <th>50%</th>\n",
       "      <td>8542.000000</td>\n",
       "      <td>0.000000</td>\n",
       "      <td>1.000000</td>\n",
       "      <td>1.000000</td>\n",
       "      <td>0.000000</td>\n",
       "    </tr>\n",
       "    <tr>\n",
       "      <th>75%</th>\n",
       "      <td>12922.250000</td>\n",
       "      <td>0.000000</td>\n",
       "      <td>1.000000</td>\n",
       "      <td>1.000000</td>\n",
       "      <td>0.000000</td>\n",
       "    </tr>\n",
       "    <tr>\n",
       "      <th>max</th>\n",
       "      <td>17866.000000</td>\n",
       "      <td>1.000000</td>\n",
       "      <td>1.000000</td>\n",
       "      <td>1.000000</td>\n",
       "      <td>1.000000</td>\n",
       "    </tr>\n",
       "  </tbody>\n",
       "</table>\n",
       "</div>"
      ],
      "text/plain": [
       "             job_id  telecommuting  has_company_logo  has_questions  \\\n",
       "count    774.000000     774.000000        774.000000     774.000000   \n",
       "mean    8664.093023       0.094315          0.978036       0.673127   \n",
       "std     5014.106692       0.292456          0.146660       0.469374   \n",
       "min        7.000000       0.000000          0.000000       0.000000   \n",
       "25%     4483.500000       0.000000          1.000000       0.000000   \n",
       "50%     8542.000000       0.000000          1.000000       1.000000   \n",
       "75%    12922.250000       0.000000          1.000000       1.000000   \n",
       "max    17866.000000       1.000000          1.000000       1.000000   \n",
       "\n",
       "       fraudulent  \n",
       "count  774.000000  \n",
       "mean     0.093023  \n",
       "std      0.290653  \n",
       "min      0.000000  \n",
       "25%      0.000000  \n",
       "50%      0.000000  \n",
       "75%      0.000000  \n",
       "max      1.000000  "
      ]
     },
     "execution_count": 13,
     "metadata": {},
     "output_type": "execute_result"
    }
   ],
   "source": [
    "#To describe the dataframe \n",
    "df.describe()"
   ]
  },
  {
   "cell_type": "code",
   "execution_count": 14,
   "id": "c125db98-7dba-4394-87cf-acd017efd22b",
   "metadata": {},
   "outputs": [
    {
     "name": "stdout",
     "output_type": "stream",
     "text": [
      "<class 'pandas.core.frame.DataFrame'>\n",
      "Index: 774 entries, 6 to 17865\n",
      "Data columns (total 18 columns):\n",
      " #   Column               Non-Null Count  Dtype \n",
      "---  ------               --------------  ----- \n",
      " 0   job_id               774 non-null    int64 \n",
      " 1   title                774 non-null    object\n",
      " 2   location             774 non-null    object\n",
      " 3   department           774 non-null    object\n",
      " 4   salary_range         774 non-null    object\n",
      " 5   company_profile      774 non-null    object\n",
      " 6   description          774 non-null    object\n",
      " 7   requirements         774 non-null    object\n",
      " 8   benefits             774 non-null    object\n",
      " 9   telecommuting        774 non-null    int64 \n",
      " 10  has_company_logo     774 non-null    int64 \n",
      " 11  has_questions        774 non-null    int64 \n",
      " 12  employment_type      774 non-null    object\n",
      " 13  required_experience  774 non-null    object\n",
      " 14  required_education   774 non-null    object\n",
      " 15  industry             774 non-null    object\n",
      " 16  function             774 non-null    object\n",
      " 17  fraudulent           774 non-null    int64 \n",
      "dtypes: int64(5), object(13)\n",
      "memory usage: 114.9+ KB\n"
     ]
    }
   ],
   "source": [
    "df.info() "
   ]
  },
  {
   "cell_type": "code",
   "execution_count": 15,
   "id": "2ba40d56-c679-4da4-903d-76be2c7e918f",
   "metadata": {},
   "outputs": [
    {
     "data": {
      "text/plain": [
       "6        False\n",
       "15       False\n",
       "23       False\n",
       "98       False\n",
       "102      False\n",
       "         ...  \n",
       "17734    False\n",
       "17759    False\n",
       "17813    False\n",
       "17849    False\n",
       "17865    False\n",
       "Length: 774, dtype: bool"
      ]
     },
     "execution_count": 15,
     "metadata": {},
     "output_type": "execute_result"
    }
   ],
   "source": [
    "df.duplicated() "
   ]
  },
  {
   "cell_type": "code",
   "execution_count": 16,
   "id": "1515fad1-8303-48a7-a36d-a444c5b7ee0a",
   "metadata": {},
   "outputs": [
    {
     "data": {
      "text/plain": [
       "0"
      ]
     },
     "execution_count": 16,
     "metadata": {},
     "output_type": "execute_result"
    }
   ],
   "source": [
    "sum(df.duplicated()) "
   ]
  },
  {
   "cell_type": "code",
   "execution_count": 17,
   "id": "e0988195-1465-4b6b-bcb6-923563de19f9",
   "metadata": {},
   "outputs": [
    {
     "data": {
      "text/plain": [
       "job_id                 0\n",
       "title                  0\n",
       "location               0\n",
       "department             0\n",
       "salary_range           0\n",
       "company_profile        0\n",
       "description            0\n",
       "requirements           0\n",
       "benefits               0\n",
       "telecommuting          0\n",
       "has_company_logo       0\n",
       "has_questions          0\n",
       "employment_type        0\n",
       "required_experience    0\n",
       "required_education     0\n",
       "industry               0\n",
       "function               0\n",
       "fraudulent             0\n",
       "dtype: int64"
      ]
     },
     "execution_count": 17,
     "metadata": {},
     "output_type": "execute_result"
    }
   ],
   "source": [
    "#Checking sum of missing values \n",
    "df.isnull().sum() "
   ]
  },
  {
   "cell_type": "code",
   "execution_count": 18,
   "id": "f82b85d6-54b2-470e-b576-374941600691",
   "metadata": {},
   "outputs": [],
   "source": [
    "#preprocessing, split test and dataset, split response variable \n",
    "X = df.drop(labels='fraudulent', axis=1) "
   ]
  },
  {
   "cell_type": "code",
   "execution_count": 19,
   "id": "e3941eac-df93-4c71-9ea3-c737b8aed925",
   "metadata": {},
   "outputs": [],
   "source": [
    "#Response variable \n",
    "y = df.loc[:,'fraudulent'] "
   ]
  },
  {
   "cell_type": "code",
   "execution_count": 20,
   "id": "05d825be-4be0-4072-a603-6cfb3124fe53",
   "metadata": {},
   "outputs": [],
   "source": [
    "#We'll use a test size of 30%. We also stratify the split on the response variable, which is very important to do because there are so few fraudulent transactions. \n",
    "from sklearn.model_selection import train_test_split \n"
   ]
  },
  {
   "cell_type": "code",
   "execution_count": 21,
   "id": "2f29f304-74e7-49b5-9eab-3468113c9a07",
   "metadata": {},
   "outputs": [],
   "source": [
    "X_train, X_test, y_train, y_test = train_test_split(X, y, test_size=0.3, random_state=1, stratify=y)"
   ]
  },
  {
   "cell_type": "code",
   "execution_count": 22,
   "id": "14ef8286-2305-4b71-995b-7fb241a382f7",
   "metadata": {},
   "outputs": [
    {
     "name": "stdout",
     "output_type": "stream",
     "text": [
      "Number of training dataset:  541\n"
     ]
    }
   ],
   "source": [
    "print(\"Number of training dataset: \", len(X_train))"
   ]
  },
  {
   "cell_type": "code",
   "execution_count": 23,
   "id": "546da5f3-bb62-476a-8e4c-04cb30d823cd",
   "metadata": {},
   "outputs": [
    {
     "name": "stdout",
     "output_type": "stream",
     "text": [
      "Number of test dataset:  233\n"
     ]
    }
   ],
   "source": [
    "print(\"Number of test dataset: \", len(X_test)) "
   ]
  },
  {
   "cell_type": "code",
   "execution_count": 24,
   "id": "8f049a70-97b6-4a2f-a361-644a49a8e465",
   "metadata": {},
   "outputs": [
    {
     "name": "stdout",
     "output_type": "stream",
     "text": [
      "Total number of dataset:  774\n"
     ]
    }
   ],
   "source": [
    "print(\"Total number of dataset: \", len(X_train)+len(X_test)) "
   ]
  },
  {
   "cell_type": "code",
   "execution_count": 25,
   "id": "fa0d7dae-253d-499d-a60e-e1f9cae4014b",
   "metadata": {},
   "outputs": [
    {
     "data": {
      "text/html": [
       "<div>\n",
       "<style scoped>\n",
       "    .dataframe tbody tr th:only-of-type {\n",
       "        vertical-align: middle;\n",
       "    }\n",
       "\n",
       "    .dataframe tbody tr th {\n",
       "        vertical-align: top;\n",
       "    }\n",
       "\n",
       "    .dataframe thead tr th {\n",
       "        text-align: left;\n",
       "    }\n",
       "\n",
       "    .dataframe thead tr:last-of-type th {\n",
       "        text-align: right;\n",
       "    }\n",
       "</style>\n",
       "<table border=\"1\" class=\"dataframe\">\n",
       "  <thead>\n",
       "    <tr>\n",
       "      <th></th>\n",
       "      <th colspan=\"8\" halign=\"left\">job_id</th>\n",
       "      <th colspan=\"2\" halign=\"left\">telecommuting</th>\n",
       "      <th>...</th>\n",
       "      <th colspan=\"2\" halign=\"left\">has_company_logo</th>\n",
       "      <th colspan=\"8\" halign=\"left\">has_questions</th>\n",
       "    </tr>\n",
       "    <tr>\n",
       "      <th></th>\n",
       "      <th>count</th>\n",
       "      <th>mean</th>\n",
       "      <th>std</th>\n",
       "      <th>min</th>\n",
       "      <th>25%</th>\n",
       "      <th>50%</th>\n",
       "      <th>75%</th>\n",
       "      <th>max</th>\n",
       "      <th>count</th>\n",
       "      <th>mean</th>\n",
       "      <th>...</th>\n",
       "      <th>75%</th>\n",
       "      <th>max</th>\n",
       "      <th>count</th>\n",
       "      <th>mean</th>\n",
       "      <th>std</th>\n",
       "      <th>min</th>\n",
       "      <th>25%</th>\n",
       "      <th>50%</th>\n",
       "      <th>75%</th>\n",
       "      <th>max</th>\n",
       "    </tr>\n",
       "    <tr>\n",
       "      <th>fraudulent</th>\n",
       "      <th></th>\n",
       "      <th></th>\n",
       "      <th></th>\n",
       "      <th></th>\n",
       "      <th></th>\n",
       "      <th></th>\n",
       "      <th></th>\n",
       "      <th></th>\n",
       "      <th></th>\n",
       "      <th></th>\n",
       "      <th></th>\n",
       "      <th></th>\n",
       "      <th></th>\n",
       "      <th></th>\n",
       "      <th></th>\n",
       "      <th></th>\n",
       "      <th></th>\n",
       "      <th></th>\n",
       "      <th></th>\n",
       "      <th></th>\n",
       "      <th></th>\n",
       "    </tr>\n",
       "  </thead>\n",
       "  <tbody>\n",
       "    <tr>\n",
       "      <th>0</th>\n",
       "      <td>702.0</td>\n",
       "      <td>8808.428775</td>\n",
       "      <td>5028.881929</td>\n",
       "      <td>7.0</td>\n",
       "      <td>4483.5</td>\n",
       "      <td>8768.0</td>\n",
       "      <td>13176.0</td>\n",
       "      <td>17866.0</td>\n",
       "      <td>702.0</td>\n",
       "      <td>0.085470</td>\n",
       "      <td>...</td>\n",
       "      <td>1.0</td>\n",
       "      <td>1.0</td>\n",
       "      <td>702.0</td>\n",
       "      <td>0.672365</td>\n",
       "      <td>0.469686</td>\n",
       "      <td>0.0</td>\n",
       "      <td>0.0</td>\n",
       "      <td>1.0</td>\n",
       "      <td>1.0</td>\n",
       "      <td>1.0</td>\n",
       "    </tr>\n",
       "    <tr>\n",
       "      <th>1</th>\n",
       "      <td>72.0</td>\n",
       "      <td>7256.819444</td>\n",
       "      <td>4670.761142</td>\n",
       "      <td>99.0</td>\n",
       "      <td>4503.5</td>\n",
       "      <td>6549.0</td>\n",
       "      <td>9404.0</td>\n",
       "      <td>17814.0</td>\n",
       "      <td>72.0</td>\n",
       "      <td>0.180556</td>\n",
       "      <td>...</td>\n",
       "      <td>1.0</td>\n",
       "      <td>1.0</td>\n",
       "      <td>72.0</td>\n",
       "      <td>0.680556</td>\n",
       "      <td>0.469533</td>\n",
       "      <td>0.0</td>\n",
       "      <td>0.0</td>\n",
       "      <td>1.0</td>\n",
       "      <td>1.0</td>\n",
       "      <td>1.0</td>\n",
       "    </tr>\n",
       "  </tbody>\n",
       "</table>\n",
       "<p>2 rows × 32 columns</p>\n",
       "</div>"
      ],
      "text/plain": [
       "           job_id                                                           \\\n",
       "            count         mean          std   min     25%     50%      75%   \n",
       "fraudulent                                                                   \n",
       "0           702.0  8808.428775  5028.881929   7.0  4483.5  8768.0  13176.0   \n",
       "1            72.0  7256.819444  4670.761142  99.0  4503.5  6549.0   9404.0   \n",
       "\n",
       "                    telecommuting            ... has_company_logo       \\\n",
       "                max         count      mean  ...              75%  max   \n",
       "fraudulent                                   ...                         \n",
       "0           17866.0         702.0  0.085470  ...              1.0  1.0   \n",
       "1           17814.0          72.0  0.180556  ...              1.0  1.0   \n",
       "\n",
       "           has_questions                                               \n",
       "                   count      mean       std  min  25%  50%  75%  max  \n",
       "fraudulent                                                             \n",
       "0                  702.0  0.672365  0.469686  0.0  0.0  1.0  1.0  1.0  \n",
       "1                   72.0  0.680556  0.469533  0.0  0.0  1.0  1.0  1.0  \n",
       "\n",
       "[2 rows x 32 columns]"
      ]
     },
     "execution_count": 25,
     "metadata": {},
     "output_type": "execute_result"
    }
   ],
   "source": [
    "df.groupby('fraudulent').describe() "
   ]
  },
  {
   "cell_type": "code",
   "execution_count": 26,
   "id": "b6afa891-55d5-43f9-a11b-18af8cc660b5",
   "metadata": {},
   "outputs": [],
   "source": [
    "#plotting graph for distribution "
   ]
  },
  {
   "cell_type": "code",
   "execution_count": 27,
   "id": "9f4e0eb3-e2da-4d04-9cd1-9d3f5f1b6594",
   "metadata": {},
   "outputs": [],
   "source": [
    "import matplotlib.pyplot as plt "
   ]
  },
  {
   "cell_type": "code",
   "execution_count": 28,
   "id": "fdf4ea07-dc97-47f0-837f-7775a785d170",
   "metadata": {},
   "outputs": [],
   "source": [
    "import seaborn as sns "
   ]
  },
  {
   "cell_type": "code",
   "execution_count": 29,
   "id": "f7980c97-c0e7-4374-bfba-112ec6e5214c",
   "metadata": {},
   "outputs": [
    {
     "data": {
      "text/plain": [
       "<Axes: xlabel='fraudulent', ylabel='count'>"
      ]
     },
     "execution_count": 29,
     "metadata": {},
     "output_type": "execute_result"
    },
    {
     "data": {
      "image/png": "[encoded data removed]",
      "text/plain": [
       "<Figure size 640x480 with 1 Axes>"
      ]
     },
     "metadata": {},
     "output_type": "display_data"
    }
   ],
   "source": [
    "sns.countplot(x = \"fraudulent\", data = df) "
   ]
  },
  {
   "cell_type": "code",
   "execution_count": 30,
   "id": "b32eb102-c8d3-48c7-a87f-4771fd1174bb",
   "metadata": {},
   "outputs": [
    {
     "data": {
      "text/plain": [
       "fraudulent\n",
       "0    702\n",
       "1     72\n",
       "Name: count, dtype: int64"
      ]
     },
     "execution_count": 30,
     "metadata": {},
     "output_type": "execute_result"
    }
   ],
   "source": [
    "df.loc[:, 'fraudulent'].value_counts() "
   ]
  },
  {
   "cell_type": "code",
   "execution_count": 31,
   "id": "032b1d5b-ff6c-4d33-bd33-f74286b96473",
   "metadata": {},
   "outputs": [
    {
     "data": {
      "text/plain": [
       "Text(0.5, 1.0, 'Distribution of  fraudulent or NOT')"
      ]
     },
     "execution_count": 31,
     "metadata": {},
     "output_type": "execute_result"
    },
    {
     "data": {
      "image/png": "[encoded data removed]",
      "text/plain": [
       "<Figure size 640x480 with 1 Axes>"
      ]
     },
     "metadata": {},
     "output_type": "display_data"
    }
   ],
   "source": [
    "plt.title('Distribution of  fraudulent or NOT') "
   ]
  },
  {
   "cell_type": "code",
   "execution_count": 32,
   "id": "077d4f27-f467-40e0-9320-1cacd81e7cde",
   "metadata": {},
   "outputs": [],
   "source": [
    "from collections import Counter"
   ]
  },
  {
   "cell_type": "code",
   "execution_count": 33,
   "id": "32fd8edc-0fe7-4b34-ab4f-cee5c1c6eaa8",
   "metadata": {},
   "outputs": [],
   "source": [
    "count1 = Counter(\" \".join(df[df['fraudulent']==0][\"description\"]).split()).most_common(30) "
   ]
  },
  {
   "cell_type": "code",
   "execution_count": 34,
   "id": "30682da2-1a27-44ee-b268-71c7897e2e17",
   "metadata": {},
   "outputs": [],
   "source": [
    "data1 = p.DataFrame.from_dict(count1) "
   ]
  },
  {
   "cell_type": "code",
   "execution_count": 35,
   "id": "68c2fc95-3593-4ed2-b1f2-3b0e107335ba",
   "metadata": {},
   "outputs": [],
   "source": [
    "data1 = data1.rename(columns={0: \"real\", 1 : \"count\"})"
   ]
  },
  {
   "cell_type": "code",
   "execution_count": 36,
   "id": "85047f02-cb1f-432b-9d82-b8441a72b31d",
   "metadata": {},
   "outputs": [],
   "source": [
    "count2 = Counter(\" \".join(df[df['fraudulent']==1][\"description\"]).split()).most_common(30) "
   ]
  },
  {
   "cell_type": "code",
   "execution_count": 37,
   "id": "3f742a02-4ce1-4720-8907-6216c032d91f",
   "metadata": {},
   "outputs": [],
   "source": [
    "data2 = p.DataFrame.from_dict(count2)"
   ]
  },
  {
   "cell_type": "code",
   "execution_count": 38,
   "id": "07353a30-e607-47f5-8bf8-d8bdcfb743b0",
   "metadata": {},
   "outputs": [],
   "source": [
    "data2 = data2.rename(columns={0: \"fraud\", 1 : \"count_\"}) "
   ]
  },
  {
   "cell_type": "code",
   "execution_count": 39,
   "id": "bdd2e5f4-05a7-49e1-abde-bbb7e7663541",
   "metadata": {},
   "outputs": [],
   "source": [
    "from collections import Counter"
   ]
  },
  {
   "cell_type": "code",
   "execution_count": 40,
   "id": "c609bcee-d40b-4db4-b66d-69f755307c11",
   "metadata": {},
   "outputs": [],
   "source": [
    "count1 = Counter(\" \".join(df[df['fraudulent']==0][\"description\"]).split()).most_common(30) "
   ]
  },
  {
   "cell_type": "code",
   "execution_count": 41,
   "id": "6ef586e0-2735-49ac-abfd-d1ff566f11c4",
   "metadata": {},
   "outputs": [],
   "source": [
    "data1 = p.DataFrame.from_dict(count1)"
   ]
  },
  {
   "cell_type": "code",
   "execution_count": 42,
   "id": "c8320ffc-d82a-4543-a35f-aa50e1660874",
   "metadata": {},
   "outputs": [],
   "source": [
    "data1 = data1.rename(columns={0: \"real\", 1 : \"count\"})"
   ]
  },
  {
   "cell_type": "code",
   "execution_count": 43,
   "id": "25c29baa-1e1f-4fdd-b1f5-d559c5cecf08",
   "metadata": {},
   "outputs": [],
   "source": [
    "count2 = Counter(\" \".join(df[df['fraudulent']==1][\"description\"]).split()).most_common(30)"
   ]
  },
  {
   "cell_type": "code",
   "execution_count": 44,
   "id": "4b289fd1-cb43-4e5f-ae18-33b8e4c4841e",
   "metadata": {},
   "outputs": [],
   "source": [
    "data2 = p.DataFrame.from_dict(count2)"
   ]
  },
  {
   "cell_type": "code",
   "execution_count": 45,
   "id": "8aa74c3a-baa4-470c-8c57-153cc67209bb",
   "metadata": {},
   "outputs": [],
   "source": [
    "data2 = data2.rename(columns={0: \"fraud\", 1 : \"count_\"}) "
   ]
  },
  {
   "cell_type": "code",
   "execution_count": 46,
   "id": "f879a653-e1d5-486a-8175-479b332d0227",
   "metadata": {},
   "outputs": [
    {
     "data": {
      "text/plain": [
       "<Axes: >"
      ]
     },
     "execution_count": 46,
     "metadata": {},
     "output_type": "execute_result"
    },
    {
     "data": {
      "image/png": "[encoded data removed]",
      "text/plain": [
       "<Figure size 2000x1500 with 1 Axes>"
      ]
     },
     "metadata": {},
     "output_type": "display_data"
    }
   ],
   "source": [
    "data1.plot.bar(legend = False, color = 'red',figsize = (20,15))"
   ]
  },
  {
   "cell_type": "code",
   "execution_count": 47,
   "id": "156c03d1-ed58-4861-815b-e31f4e257c70",
   "metadata": {},
   "outputs": [],
   "source": [
    "y_pos = n.arange(len(data1[\"real\"]))"
   ]
  },
  {
   "cell_type": "code",
   "execution_count": 48,
   "id": "b9a37327-6378-4826-a1bf-ab097ca56b3c",
   "metadata": {},
   "outputs": [
    {
     "data": {
      "text/plain": [
       "([<matplotlib.axis.XTick at 0x25e6adab2e0>,\n",
       "  <matplotlib.axis.XTick at 0x25e6adaa950>,\n",
       "  <matplotlib.axis.XTick at 0x25e6ad9b3a0>,\n",
       "  <matplotlib.axis.XTick at 0x25e6ad9bc10>,\n",
       "  <matplotlib.axis.XTick at 0x25e1134c8b0>,\n",
       "  <matplotlib.axis.XTick at 0x25e1134d510>,\n",
       "  <matplotlib.axis.XTick at 0x25e1134e170>,\n",
       "  <matplotlib.axis.XTick at 0x25e1134d030>,\n",
       "  <matplotlib.axis.XTick at 0x25e1134f0a0>,\n",
       "  <matplotlib.axis.XTick at 0x25e1134fd00>,\n",
       "  <matplotlib.axis.XTick at 0x25e112e49a0>,\n",
       "  <matplotlib.axis.XTick at 0x25e1134ec50>,\n",
       "  <matplotlib.axis.XTick at 0x25e112e57b0>,\n",
       "  <matplotlib.axis.XTick at 0x25e112e6410>,\n",
       "  <matplotlib.axis.XTick at 0x25e112e7070>,\n",
       "  <matplotlib.axis.XTick at 0x25e112e7cd0>,\n",
       "  <matplotlib.axis.XTick at 0x25e112e5360>,\n",
       "  <matplotlib.axis.XTick at 0x25e112fca90>,\n",
       "  <matplotlib.axis.XTick at 0x25e112fd6f0>,\n",
       "  <matplotlib.axis.XTick at 0x25e112fe350>,\n",
       "  <matplotlib.axis.XTick at 0x25e112fd270>,\n",
       "  <matplotlib.axis.XTick at 0x25e112ff160>,\n",
       "  <matplotlib.axis.XTick at 0x25e112ffdc0>,\n",
       "  <matplotlib.axis.XTick at 0x25e11314a60>,\n",
       "  <matplotlib.axis.XTick at 0x25e112fe9e0>,\n",
       "  <matplotlib.axis.XTick at 0x25e11314dc0>,\n",
       "  <matplotlib.axis.XTick at 0x25e11315c60>,\n",
       "  <matplotlib.axis.XTick at 0x25e113168c0>,\n",
       "  <matplotlib.axis.XTick at 0x25e11317520>,\n",
       "  <matplotlib.axis.XTick at 0x25e113153c0>],\n",
       " [Text(0, 0, 'and'),\n",
       "  Text(1, 0, 'to'),\n",
       "  Text(2, 0, 'the'),\n",
       "  Text(3, 0, 'of'),\n",
       "  Text(4, 0, 'a'),\n",
       "  Text(5, 0, 'in'),\n",
       "  Text(6, 0, 'for'),\n",
       "  Text(7, 0, 'with'),\n",
       "  Text(8, 0, 'our'),\n",
       "  Text(9, 0, 'is'),\n",
       "  Text(10, 0, 'will'),\n",
       "  Text(11, 0, 'be'),\n",
       "  Text(12, 0, 'you'),\n",
       "  Text(13, 0, 'are'),\n",
       "  Text(14, 0, 'on'),\n",
       "  Text(15, 0, 'an'),\n",
       "  Text(16, 0, 'We'),\n",
       "  Text(17, 0, 'that'),\n",
       "  Text(18, 0, 'as'),\n",
       "  Text(19, 0, 'team'),\n",
       "  Text(20, 0, 'we'),\n",
       "  Text(21, 0, 'have'),\n",
       "  Text(22, 0, 'work'),\n",
       "  Text(23, 0, 'all'),\n",
       "  Text(24, 0, 'their'),\n",
       "  Text(25, 0, 'your'),\n",
       "  Text(26, 0, 'sales'),\n",
       "  Text(27, 0, 'new'),\n",
       "  Text(28, 0, 'looking'),\n",
       "  Text(29, 0, 'at')])"
      ]
     },
     "execution_count": 48,
     "metadata": {},
     "output_type": "execute_result"
    },
    {
     "data": {
      "image/png": "[encoded data removed]",
      "text/plain": [
       "<Figure size 640x480 with 1 Axes>"
      ]
     },
     "metadata": {},
     "output_type": "display_data"
    }
   ],
   "source": [
    "plt.xticks(y_pos, data1[\"real\"]) \n"
   ]
  },
  {
   "cell_type": "code",
   "execution_count": 49,
   "id": "571907f9-f0af-457a-8592-853bda7542f9",
   "metadata": {},
   "outputs": [
    {
     "data": {
      "text/plain": [
       "Text(0.5, 1.0, 'Top 30 words of Truthful')"
      ]
     },
     "execution_count": 49,
     "metadata": {},
     "output_type": "execute_result"
    },
    {
     "data": {
      "image/png": "[encoded data removed]",
      "text/plain": [
       "<Figure size 640x480 with 1 Axes>"
      ]
     },
     "metadata": {},
     "output_type": "display_data"
    }
   ],
   "source": [
    "plt.title('Top 30 words of Truthful')"
   ]
  },
  {
   "cell_type": "code",
   "execution_count": 50,
   "id": "5392f07d-6d01-495b-a9f2-2da08b5f9156",
   "metadata": {},
   "outputs": [
    {
     "data": {
      "text/plain": [
       "Text(0.5, 0, 'words')"
      ]
     },
     "execution_count": 50,
     "metadata": {},
     "output_type": "execute_result"
    },
    {
     "data": {
      "image/png": "[encoded data removed]",
      "text/plain": [
       "<Figure size 640x480 with 1 Axes>"
      ]
     },
     "metadata": {},
     "output_type": "display_data"
    }
   ],
   "source": [
    "plt.xlabel('words')"
   ]
  },
  {
   "cell_type": "code",
   "execution_count": 51,
   "id": "99630cd4-0e9c-4605-9cb7-3b1bc92a8adb",
   "metadata": {},
   "outputs": [
    {
     "data": {
      "text/plain": [
       "Text(0, 0.5, 'number')"
      ]
     },
     "execution_count": 51,
     "metadata": {},
     "output_type": "execute_result"
    },
    {
     "data": {
      "image/png": "[encoded data removed]",
      "text/plain": [
       "<Figure size 640x480 with 1 Axes>"
      ]
     },
     "metadata": {},
     "output_type": "display_data"
    }
   ],
   "source": [
    "plt.ylabel('number')"
   ]
  },
  {
   "cell_type": "code",
   "execution_count": 52,
   "id": "07379589-c4a7-408e-a6f1-5e485cacbefa",
   "metadata": {},
   "outputs": [],
   "source": [
    "plt.show()"
   ]
  },
  {
   "cell_type": "code",
   "execution_count": 53,
   "id": "13928543-22ea-45c4-8659-e7d7993f2b80",
   "metadata": {},
   "outputs": [
    {
     "data": {
      "text/plain": [
       "<Axes: >"
      ]
     },
     "execution_count": 53,
     "metadata": {},
     "output_type": "execute_result"
    },
    {
     "data": {
      "image/png": "[encoded data removed]",
      "text/plain": [
       "<Figure size 2000x1700 with 1 Axes>"
      ]
     },
     "metadata": {},
     "output_type": "display_data"
    }
   ],
   "source": [
    "#Graph for top 30 words of Opinion spam \n",
    "data2.plot.bar(legend = False, color = 'green', figsize = (20,17)) "
   ]
  },
  {
   "cell_type": "code",
   "execution_count": 54,
   "id": "00d71730-c8e2-4b8b-b5ca-f244f14f1e25",
   "metadata": {},
   "outputs": [],
   "source": [
    "y_pos = n.arange(len(data2[\"fraud\"])) "
   ]
  },
  {
   "cell_type": "code",
   "execution_count": 55,
   "id": "868600f9-8036-4472-8fbd-4bf3c17344c1",
   "metadata": {},
   "outputs": [
    {
     "data": {
      "text/plain": [
       "([<matplotlib.axis.XTick at 0x25e111f2170>,\n",
       "  <matplotlib.axis.XTick at 0x25e111f17e0>,\n",
       "  <matplotlib.axis.XTick at 0x25e111fe200>,\n",
       "  <matplotlib.axis.XTick at 0x25e111fea70>,\n",
       "  <matplotlib.axis.XTick at 0x25e111ff6d0>,\n",
       "  <matplotlib.axis.XTick at 0x25e114f0370>,\n",
       "  <matplotlib.axis.XTick at 0x25e114f0fd0>,\n",
       "  <matplotlib.axis.XTick at 0x25e111fece0>,\n",
       "  <matplotlib.axis.XTick at 0x25e114f1f00>,\n",
       "  <matplotlib.axis.XTick at 0x25e114f2b60>,\n",
       "  <matplotlib.axis.XTick at 0x25e114f37c0>,\n",
       "  <matplotlib.axis.XTick at 0x25e114f2dd0>,\n",
       "  <matplotlib.axis.XTick at 0x25e11504640>,\n",
       "  <matplotlib.axis.XTick at 0x25e115052a0>,\n",
       "  <matplotlib.axis.XTick at 0x25e11505f00>,\n",
       "  <matplotlib.axis.XTick at 0x25e11506b60>,\n",
       "  <matplotlib.axis.XTick at 0x25e115048b0>,\n",
       "  <matplotlib.axis.XTick at 0x25e115078e0>,\n",
       "  <matplotlib.axis.XTick at 0x25e11520580>,\n",
       "  <matplotlib.axis.XTick at 0x25e115211e0>,\n",
       "  <matplotlib.axis.XTick at 0x25e114f2290>,\n",
       "  <matplotlib.axis.XTick at 0x25e11521ff0>,\n",
       "  <matplotlib.axis.XTick at 0x25e11522c50>,\n",
       "  <matplotlib.axis.XTick at 0x25e115238b0>,\n",
       "  <matplotlib.axis.XTick at 0x25e11523940>,\n",
       "  <matplotlib.axis.XTick at 0x25e115400a0>,\n",
       "  <matplotlib.axis.XTick at 0x25e11540b50>,\n",
       "  <matplotlib.axis.XTick at 0x25e11541570>,\n",
       "  <matplotlib.axis.XTick at 0x25e11541f90>,\n",
       "  <matplotlib.axis.XTick at 0x25e11541fc0>],\n",
       " [Text(0, 0, 'and'),\n",
       "  Text(1, 0, 'to'),\n",
       "  Text(2, 0, 'the'),\n",
       "  Text(3, 0, 'of'),\n",
       "  Text(4, 0, 'in'),\n",
       "  Text(5, 0, 'with'),\n",
       "  Text(6, 0, 'a'),\n",
       "  Text(7, 0, 'for'),\n",
       "  Text(8, 0, 'on'),\n",
       "  Text(9, 0, 'as'),\n",
       "  Text(10, 0, 'are'),\n",
       "  Text(11, 0, 'is'),\n",
       "  Text(12, 0, 'work'),\n",
       "  Text(13, 0, 'other'),\n",
       "  Text(14, 0, 'all'),\n",
       "  Text(15, 0, 'that'),\n",
       "  Text(16, 0, 'customer'),\n",
       "  Text(17, 0, 'maintenance'),\n",
       "  Text(18, 0, 'or'),\n",
       "  Text(19, 0, 'team'),\n",
       "  Text(20, 0, 'will'),\n",
       "  Text(21, 0, 'by'),\n",
       "  Text(22, 0, 'be'),\n",
       "  Text(23, 0, 'environmental'),\n",
       "  Text(24, 0, 'our'),\n",
       "  Text(25, 0, 'this'),\n",
       "  Text(26, 0, 'equipment'),\n",
       "  Text(27, 0, 'position'),\n",
       "  Text(28, 0, 'calls'),\n",
       "  Text(29, 0, 'must')])"
      ]
     },
     "execution_count": 55,
     "metadata": {},
     "output_type": "execute_result"
    },
    {
     "data": {
      "image/png": "[encoded data removed]",
      "text/plain": [
       "<Figure size 640x480 with 1 Axes>"
      ]
     },
     "metadata": {},
     "output_type": "display_data"
    }
   ],
   "source": [
    "plt.xticks(y_pos, data2[\"fraud\"]) "
   ]
  },
  {
   "cell_type": "code",
   "execution_count": 56,
   "id": "fbe86f4a-a39e-479d-9718-62d81f5c8181",
   "metadata": {},
   "outputs": [
    {
     "data": {
      "text/plain": [
       "Text(0.5, 1.0, 'Top 30 words of Opinion spam')"
      ]
     },
     "execution_count": 56,
     "metadata": {},
     "output_type": "execute_result"
    },
    {
     "data": {
      "image/png": "[encoded data removed]",
      "text/plain": [
       "<Figure size 640x480 with 1 Axes>"
      ]
     },
     "metadata": {},
     "output_type": "display_data"
    }
   ],
   "source": [
    "plt.title('Top 30 words of Opinion spam')"
   ]
  },
  {
   "cell_type": "code",
   "execution_count": 57,
   "id": "9e972f4f-0fd0-4e3f-b4b5-0b55ca440bfa",
   "metadata": {},
   "outputs": [
    {
     "data": {
      "text/plain": [
       "Text(0.5, 0, 'words')"
      ]
     },
     "execution_count": 57,
     "metadata": {},
     "output_type": "execute_result"
    },
    {
     "data": {
      "image/png": "[encoded data removed]",
      "text/plain": [
       "<Figure size 640x480 with 1 Axes>"
      ]
     },
     "metadata": {},
     "output_type": "display_data"
    }
   ],
   "source": [
    "plt.xlabel('words')"
   ]
  },
  {
   "cell_type": "code",
   "execution_count": 58,
   "id": "53ba0c3d-aaa0-445d-a5d9-9a98d52bb7ec",
   "metadata": {},
   "outputs": [
    {
     "data": {
      "text/plain": [
       "Text(0, 0.5, 'number')"
      ]
     },
     "execution_count": 58,
     "metadata": {},
     "output_type": "execute_result"
    },
    {
     "data": {
      "image/png": "[encoded data removed]",
      "text/plain": [
       "<Figure size 640x480 with 1 Axes>"
      ]
     },
     "metadata": {},
     "output_type": "display_data"
    }
   ],
   "source": [
    "plt.ylabel('number')"
   ]
  },
  {
   "cell_type": "code",
   "execution_count": 59,
   "id": "29140520-ac01-4354-8d1e-7dabfcbf166a",
   "metadata": {},
   "outputs": [],
   "source": [
    "plt.show() "
   ]
  },
  {
   "cell_type": "code",
   "execution_count": 60,
   "id": "96f5a7d4-e048-48fb-9754-04bdff3ace81",
   "metadata": {},
   "outputs": [
    {
     "data": {
      "text/plain": [
       "Index(['job_id', 'title', 'location', 'department', 'salary_range',\n",
       "       'company_profile', 'description', 'requirements', 'benefits',\n",
       "       'telecommuting', 'has_company_logo', 'has_questions', 'employment_type',\n",
       "       'required_experience', 'required_education', 'industry', 'function',\n",
       "       'fraudulent'],\n",
       "      dtype='object')"
      ]
     },
     "execution_count": 60,
     "metadata": {},
     "output_type": "execute_result"
    }
   ],
   "source": [
    "df.columns"
   ]
  },
  {
   "cell_type": "code",
   "execution_count": 61,
   "id": "5c24fb38-57fa-4ada-9fb1-81b545654a80",
   "metadata": {},
   "outputs": [],
   "source": [
    "from sklearn.preprocessing import LabelEncoder"
   ]
  },
  {
   "cell_type": "code",
   "execution_count": 62,
   "id": "f0b17861-29b7-440a-88a2-75f32ee63cae",
   "metadata": {},
   "outputs": [],
   "source": [
    "var_mod = ['title', 'location', 'department', 'salary_range', \n",
    "'company_profile', 'requirements', 'benefits', \n",
    "'telecommuting', 'has_company_logo', 'has_questions', 'employment_type', \n",
    "'required_experience', 'required_education', 'industry', 'function']"
   ]
  },
  {
   "cell_type": "code",
   "execution_count": 63,
   "id": "a801d7ae-ae8e-453b-9d8a-e4e6370e369c",
   "metadata": {},
   "outputs": [],
   "source": [
    "le = LabelEncoder() "
   ]
  },
  {
   "cell_type": "code",
   "execution_count": 66,
   "id": "247b035c-4923-4613-ab50-8a2541026327",
   "metadata": {},
   "outputs": [],
   "source": [
    "for i in var_mod:\n",
    "    df[i] = le.fit_transform(df[i]).astype(str) "
   ]
  },
  {
   "cell_type": "code",
   "execution_count": null,
   "id": "ddf38bc1-07ce-4d28-b643-9707ea80d1ac",
   "metadata": {},
   "outputs": [],
   "source": []
  }
 ],
 "metadata": {
  "kernelspec": {
   "display_name": "Python 3 (ipykernel)",
   "language": "python",
   "name": "python3"
  },
  "language_info": {
   "codemirror_mode": {
    "name": "ipython",
    "version": 3
   },
   "file_extension": ".py",
   "mimetype": "text/x-python",
   "name": "python",
   "nbconvert_exporter": "python",
   "pygments_lexer": "ipython3",
   "version": "3.10.2"
  }
 },
 "nbformat": 4,
 "nbformat_minor": 5
}
